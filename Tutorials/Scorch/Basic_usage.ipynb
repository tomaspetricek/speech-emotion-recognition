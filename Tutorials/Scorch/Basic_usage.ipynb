{
 "cells": [
  {
   "cell_type": "markdown",
   "metadata": {},
   "source": [
    "# Basic usage"
   ]
  },
  {
   "cell_type": "code",
   "execution_count": 1,
   "metadata": {},
   "outputs": [],
   "source": [
    "import torch\n",
    "from torch import nn\n",
    "import torch.nn.functional as F"
   ]
  },
  {
   "cell_type": "code",
   "execution_count": 2,
   "metadata": {},
   "outputs": [],
   "source": [
    "torch.manual_seed(0)\n",
    "torch.cuda.manual_seed(0)"
   ]
  },
  {
   "cell_type": "markdown",
   "metadata": {},
   "source": [
    "## Training a classifier and making predictions"
   ]
  },
  {
   "cell_type": "code",
   "execution_count": 3,
   "metadata": {},
   "outputs": [],
   "source": [
    "import numpy as np\n",
    "from sklearn.datasets import make_classification"
   ]
  },
  {
   "cell_type": "code",
   "execution_count": 24,
   "metadata": {},
   "outputs": [],
   "source": [
    "X, y = make_classification(1000, 20, n_informative=10, random_state=0)\n",
    "X, y = X.astype(np.float32), y.astype(np.int64)"
   ]
  },
  {
   "cell_type": "code",
   "execution_count": 25,
   "metadata": {},
   "outputs": [
    {
     "data": {
      "text/plain": [
       "((1000, 20), (1000,), 0.5)"
      ]
     },
     "execution_count": 25,
     "metadata": {},
     "output_type": "execute_result"
    }
   ],
   "source": [
    "X.shape, y.shape, y.mean()"
   ]
  },
  {
   "cell_type": "markdown",
   "metadata": {},
   "source": [
    "### Definition of the pytorch classification module"
   ]
  },
  {
   "cell_type": "code",
   "execution_count": 26,
   "metadata": {},
   "outputs": [],
   "source": [
    "class ClassifierModule(nn.Module):\n",
    "    def __init__(\n",
    "            self,\n",
    "            num_units=10,\n",
    "            nonlin=F.relu,\n",
    "            dropout=0.5,\n",
    "    ):\n",
    "        super(ClassifierModule, self).__init__()\n",
    "        self.num_units = num_units\n",
    "        self.nonlin = nonlin\n",
    "        self.dropout = dropout\n",
    "\n",
    "        self.dense0 = nn.Linear(20, num_units)\n",
    "        self.nonlin = nonlin\n",
    "        self.dropout = nn.Dropout(dropout)\n",
    "        self.dense1 = nn.Linear(num_units, 10)\n",
    "        self.output = nn.Linear(10, 2)\n",
    "\n",
    "    def forward(self, X, **kwargs):\n",
    "        X = self.nonlin(self.dense0(X))\n",
    "        X = self.dropout(X)\n",
    "        X = F.relu(self.dense1(X))\n",
    "        X = F.softmax(self.output(X), dim=-1)\n",
    "        return X"
   ]
  },
  {
   "cell_type": "markdown",
   "metadata": {},
   "source": [
    "### Defining and training neural net classifier"
   ]
  },
  {
   "cell_type": "code",
   "execution_count": 27,
   "metadata": {},
   "outputs": [],
   "source": [
    "from skorch import NeuralNetClassifier"
   ]
  },
  {
   "cell_type": "code",
   "execution_count": 28,
   "metadata": {},
   "outputs": [],
   "source": [
    "net = NeuralNetClassifier(\n",
    "    ClassifierModule,\n",
    "    max_epochs=20,\n",
    "    lr=0.1\n",
    ")"
   ]
  },
  {
   "cell_type": "code",
   "execution_count": 29,
   "metadata": {},
   "outputs": [
    {
     "name": "stdout",
     "output_type": "stream",
     "text": [
      "  epoch    train_loss    valid_acc    valid_loss     dur\n",
      "-------  ------------  -----------  ------------  ------\n",
      "      1        \u001b[36m0.6952\u001b[0m       \u001b[32m0.4800\u001b[0m        \u001b[35m0.6942\u001b[0m  0.0158\n",
      "      2        \u001b[36m0.6790\u001b[0m       \u001b[32m0.5250\u001b[0m        \u001b[35m0.6827\u001b[0m  0.0129\n",
      "      3        \u001b[36m0.6765\u001b[0m       \u001b[32m0.5550\u001b[0m        \u001b[35m0.6727\u001b[0m  0.0135\n",
      "      4        \u001b[36m0.6568\u001b[0m       \u001b[32m0.5900\u001b[0m        \u001b[35m0.6634\u001b[0m  0.0132\n",
      "      5        \u001b[36m0.6529\u001b[0m       \u001b[32m0.6400\u001b[0m        \u001b[35m0.6543\u001b[0m  0.0134\n",
      "      6        \u001b[36m0.6375\u001b[0m       \u001b[32m0.6500\u001b[0m        \u001b[35m0.6483\u001b[0m  0.0125\n",
      "      7        \u001b[36m0.6164\u001b[0m       \u001b[32m0.6700\u001b[0m        \u001b[35m0.6411\u001b[0m  0.0140\n",
      "      8        0.6208       0.6650        \u001b[35m0.6347\u001b[0m  0.0120\n",
      "      9        \u001b[36m0.6145\u001b[0m       \u001b[32m0.6750\u001b[0m        \u001b[35m0.6289\u001b[0m  0.0130\n",
      "     10        \u001b[36m0.6055\u001b[0m       \u001b[32m0.6900\u001b[0m        \u001b[35m0.6214\u001b[0m  0.0132\n",
      "     11        \u001b[36m0.5932\u001b[0m       0.6800        \u001b[35m0.6163\u001b[0m  0.0145\n",
      "     12        \u001b[36m0.5789\u001b[0m       0.6800        \u001b[35m0.6115\u001b[0m  0.0131\n",
      "     13        \u001b[36m0.5635\u001b[0m       0.6800        \u001b[35m0.6081\u001b[0m  0.0135\n",
      "     14        0.5701       0.6850        \u001b[35m0.6076\u001b[0m  0.0138\n",
      "     15        \u001b[36m0.5568\u001b[0m       \u001b[32m0.6950\u001b[0m        \u001b[35m0.6000\u001b[0m  0.0141\n",
      "     16        0.5638       \u001b[32m0.7100\u001b[0m        \u001b[35m0.5914\u001b[0m  0.0137\n",
      "     17        \u001b[36m0.5499\u001b[0m       0.7100        \u001b[35m0.5838\u001b[0m  0.0139\n",
      "     18        \u001b[36m0.5415\u001b[0m       0.7100        \u001b[35m0.5807\u001b[0m  0.0138\n",
      "     19        \u001b[36m0.5410\u001b[0m       \u001b[32m0.7200\u001b[0m        \u001b[35m0.5702\u001b[0m  0.0130\n",
      "     20        \u001b[36m0.5291\u001b[0m       0.7200        \u001b[35m0.5646\u001b[0m  0.0132\n"
     ]
    },
    {
     "data": {
      "text/plain": [
       "<class 'skorch.classifier.NeuralNetClassifier'>[initialized](\n",
       "  module_=ClassifierModule(\n",
       "    (dense0): Linear(in_features=20, out_features=10, bias=True)\n",
       "    (dropout): Dropout(p=0.5, inplace=False)\n",
       "    (dense1): Linear(in_features=10, out_features=10, bias=True)\n",
       "    (output): Linear(in_features=10, out_features=2, bias=True)\n",
       "  ),\n",
       ")"
      ]
     },
     "execution_count": 29,
     "metadata": {},
     "output_type": "execute_result"
    }
   ],
   "source": [
    "net.fit(X, y)"
   ]
  },
  {
   "cell_type": "code",
   "execution_count": 30,
   "metadata": {},
   "outputs": [
    {
     "data": {
      "text/plain": [
       "array([1, 0, 0, 0, 0])"
      ]
     },
     "execution_count": 30,
     "metadata": {},
     "output_type": "execute_result"
    }
   ],
   "source": [
    "y_pred = net.predict(X[:5])\n",
    "y_pred"
   ]
  },
  {
   "cell_type": "code",
   "execution_count": 31,
   "metadata": {},
   "outputs": [
    {
     "data": {
      "text/plain": [
       "array([[0.35712352, 0.64287645],\n",
       "       [0.90555364, 0.09444635],\n",
       "       [0.7276744 , 0.2723256 ],\n",
       "       [0.9050409 , 0.09495904],\n",
       "       [0.74524426, 0.2547557 ]], dtype=float32)"
      ]
     },
     "execution_count": 31,
     "metadata": {},
     "output_type": "execute_result"
    }
   ],
   "source": [
    "y_proba = net.predict_proba(X[:5])\n",
    "y_proba"
   ]
  },
  {
   "cell_type": "code",
   "execution_count": null,
   "metadata": {},
   "outputs": [],
   "source": []
  }
 ],
 "metadata": {
  "kernelspec": {
   "display_name": "Python 3",
   "language": "python",
   "name": "python3"
  },
  "language_info": {
   "codemirror_mode": {
    "name": "ipython",
    "version": 3
   },
   "file_extension": ".py",
   "mimetype": "text/x-python",
   "name": "python",
   "nbconvert_exporter": "python",
   "pygments_lexer": "ipython3",
   "version": "3.7.7"
  }
 },
 "nbformat": 4,
 "nbformat_minor": 4
}
