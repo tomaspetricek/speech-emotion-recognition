{
 "cells": [
  {
   "cell_type": "code",
   "execution_count": 1,
   "metadata": {},
   "outputs": [],
   "source": [
    "import pandas as pd\n",
    "import matplotlib.pyplot as plt\n",
    "import os"
   ]
  },
  {
   "cell_type": "code",
   "execution_count": 2,
   "metadata": {},
   "outputs": [],
   "source": [
    "def plot(ax, items, title, y_label, x_label):\n",
    "    labels = list()\n",
    "    for label, item in items.items():\n",
    "        ax.plot(item)\n",
    "        labels.append(label)\n",
    "\n",
    "    ax.set_title(title)\n",
    "    ax.set_ylabel(y_label)\n",
    "    ax.set_xlabel(x_label)\n",
    "    ax.legend(labels, loc='upper left')"
   ]
  },
  {
   "cell_type": "code",
   "execution_count": 3,
   "metadata": {},
   "outputs": [
    {
     "data": {
      "text/plain": [
       "'\\nsection = \"vsrtvy\"\\npath = \"models/pytorch/{}/stats.csv\"\\n\\nfilenames = [\\n    path.format(\"exp_01-baseline\"),\\n    path.format(\"exp_02-2_layers\"),\\n    path.format(\"exp_03-4_layers\"),\\n    path.format(\"exp_04-5_layers\"),\\n]\\n\\nnames = [\\n    \"výchozí model\",\\n    \"2 skryté vrstvy\",\\n    \"4 skryté vsrtvy\",\\n    \"5 skrytých vrstev\",\\n]\\n'"
      ]
     },
     "execution_count": 3,
     "metadata": {},
     "output_type": "execute_result"
    }
   ],
   "source": [
    "\"\"\"\n",
    "section = \"vsrtvy\"\n",
    "path = \"models/pytorch/{}/stats.csv\"\n",
    "\n",
    "filenames = [\n",
    "    path.format(\"exp_01-baseline\"),\n",
    "    path.format(\"exp_02-2_layers\"),\n",
    "    path.format(\"exp_03-4_layers\"),\n",
    "    path.format(\"exp_04-5_layers\"),\n",
    "]\n",
    "\n",
    "names = [\n",
    "    \"výchozí model\",\n",
    "    \"2 skryté vrstvy\",\n",
    "    \"4 skryté vsrtvy\",\n",
    "    \"5 skrytých vrstev\",\n",
    "]\n",
    "\"\"\""
   ]
  },
  {
   "cell_type": "code",
   "execution_count": 4,
   "metadata": {},
   "outputs": [
    {
     "data": {
      "text/plain": [
       "'\\nsection = \"okoli\"\\npath = \"models/pytorch/{}/stats.csv\"\\n\\nfilenames = [\\n    path.format(\"exp_01-baseline\"),\\n    path.format(\"exp_05-margin_5\"),\\n    path.format(\"exp_06-margin_15\"),\\n    path.format(\"exp_07-margin_30\"),\\n    path.format(\"exp_08-margin_50\"),\\n]\\n\\nnames = [\\n    \"výchozí model\",\\n    \"velikost okolí 5\",\\n    \"velikost okolí 15\",\\n    \"velikost okolí 30\",\\n    \"velikost okolí 50\",\\n]\\n'"
      ]
     },
     "execution_count": 4,
     "metadata": {},
     "output_type": "execute_result"
    }
   ],
   "source": [
    "\"\"\"\n",
    "section = \"okoli\"\n",
    "path = \"models/pytorch/{}/stats.csv\"\n",
    "\n",
    "filenames = [\n",
    "    path.format(\"exp_01-baseline\"),\n",
    "    path.format(\"exp_05-margin_5\"),\n",
    "    path.format(\"exp_06-margin_15\"),\n",
    "    path.format(\"exp_07-margin_30\"),\n",
    "    path.format(\"exp_08-margin_50\"),\n",
    "]\n",
    "\n",
    "names = [\n",
    "    \"výchozí model\",\n",
    "    \"velikost okolí 5\",\n",
    "    \"velikost okolí 15\",\n",
    "    \"velikost okolí 30\",\n",
    "    \"velikost okolí 50\",\n",
    "]\n",
    "\"\"\""
   ]
  },
  {
   "cell_type": "code",
   "execution_count": 5,
   "metadata": {},
   "outputs": [
    {
     "data": {
      "text/plain": [
       "'\\nsection = \"sirka\"\\npath = \"models/pytorch/{}/stats.csv\"\\n\\nfilenames = [\\n    path.format(\"exp_01-baseline\"),\\n    path.format(\"exp_09-width_16\"),\\n    path.format(\"exp_10-width_64\"),\\n    path.format(\"exp_11-width_256\"),\\n    path.format(\"exp_12-width_512\"),\\n]\\n\\nnames = [\\n    \"výchozí model\",\\n    \"šířka vrstev 16\",\\n    \"šířka vrstev 64\",\\n    \"šířka vrstev 256\",\\n    \"šířka vrstev 512\",\\n]\\n'"
      ]
     },
     "execution_count": 5,
     "metadata": {},
     "output_type": "execute_result"
    }
   ],
   "source": [
    "\"\"\"\n",
    "section = \"sirka\"\n",
    "path = \"models/pytorch/{}/stats.csv\"\n",
    "\n",
    "filenames = [\n",
    "    path.format(\"exp_01-baseline\"),\n",
    "    path.format(\"exp_09-width_16\"),\n",
    "    path.format(\"exp_10-width_64\"),\n",
    "    path.format(\"exp_11-width_256\"),\n",
    "    path.format(\"exp_12-width_512\"),\n",
    "]\n",
    "\n",
    "names = [\n",
    "    \"výchozí model\",\n",
    "    \"šířka vrstev 16\",\n",
    "    \"šířka vrstev 64\",\n",
    "    \"šířka vrstev 256\",\n",
    "    \"šířka vrstev 512\",\n",
    "]\n",
    "\"\"\""
   ]
  },
  {
   "cell_type": "code",
   "execution_count": 6,
   "metadata": {},
   "outputs": [],
   "source": [
    "\n",
    "section = \"snizeni\"\n",
    "path = \"models/pytorch/{}/stats.csv\"\n",
    "\n",
    "filenames = [\n",
    "    path.format(\"exp_01-baseline\"),\n",
    "    path.format(\"exp_13-4_emotions\"),\n",
    "    path.format(\"exp_14-3_emotions\"),\n",
    "]\n",
    "\n",
    "names = [\n",
    "    \"výchozí model\",\n",
    "    \"3 emoce\",\n",
    "    \"4 emoce\",\n",
    "]"
   ]
  },
  {
   "cell_type": "code",
   "execution_count": 7,
   "metadata": {},
   "outputs": [
    {
     "ename": "FileNotFoundError",
     "evalue": "[Errno 2] File models/pytorch/exp_10-3_emotions/stats.csv does not exist: 'models/pytorch/exp_10-3_emotions/stats.csv'",
     "output_type": "error",
     "traceback": [
      "\u001b[0;31m---------------------------------------------------------------------------\u001b[0m",
      "\u001b[0;31mFileNotFoundError\u001b[0m                         Traceback (most recent call last)",
      "\u001b[0;32m<ipython-input-7-2091ec3dcdff>\u001b[0m in \u001b[0;36m<module>\u001b[0;34m\u001b[0m\n\u001b[1;32m      2\u001b[0m \u001b[0;34m\u001b[0m\u001b[0m\n\u001b[1;32m      3\u001b[0m \u001b[0;32mfor\u001b[0m \u001b[0mfilename\u001b[0m \u001b[0;32min\u001b[0m \u001b[0mfilenames\u001b[0m\u001b[0;34m:\u001b[0m\u001b[0;34m\u001b[0m\u001b[0;34m\u001b[0m\u001b[0m\n\u001b[0;32m----> 4\u001b[0;31m     \u001b[0mexp\u001b[0m \u001b[0;34m=\u001b[0m \u001b[0mpd\u001b[0m\u001b[0;34m.\u001b[0m\u001b[0mread_csv\u001b[0m\u001b[0;34m(\u001b[0m\u001b[0mfilename\u001b[0m\u001b[0;34m)\u001b[0m\u001b[0;34m\u001b[0m\u001b[0;34m\u001b[0m\u001b[0m\n\u001b[0m\u001b[1;32m      5\u001b[0m     \u001b[0mexperiments\u001b[0m\u001b[0;34m.\u001b[0m\u001b[0mappend\u001b[0m\u001b[0;34m(\u001b[0m\u001b[0mexp\u001b[0m\u001b[0;34m)\u001b[0m\u001b[0;34m\u001b[0m\u001b[0;34m\u001b[0m\u001b[0m\n",
      "\u001b[0;32m~/opt/anaconda3/lib/python3.8/site-packages/pandas/io/parsers.py\u001b[0m in \u001b[0;36mparser_f\u001b[0;34m(filepath_or_buffer, sep, delimiter, header, names, index_col, usecols, squeeze, prefix, mangle_dupe_cols, dtype, engine, converters, true_values, false_values, skipinitialspace, skiprows, skipfooter, nrows, na_values, keep_default_na, na_filter, verbose, skip_blank_lines, parse_dates, infer_datetime_format, keep_date_col, date_parser, dayfirst, cache_dates, iterator, chunksize, compression, thousands, decimal, lineterminator, quotechar, quoting, doublequote, escapechar, comment, encoding, dialect, error_bad_lines, warn_bad_lines, delim_whitespace, low_memory, memory_map, float_precision)\u001b[0m\n\u001b[1;32m    674\u001b[0m         )\n\u001b[1;32m    675\u001b[0m \u001b[0;34m\u001b[0m\u001b[0m\n\u001b[0;32m--> 676\u001b[0;31m         \u001b[0;32mreturn\u001b[0m \u001b[0m_read\u001b[0m\u001b[0;34m(\u001b[0m\u001b[0mfilepath_or_buffer\u001b[0m\u001b[0;34m,\u001b[0m \u001b[0mkwds\u001b[0m\u001b[0;34m)\u001b[0m\u001b[0;34m\u001b[0m\u001b[0;34m\u001b[0m\u001b[0m\n\u001b[0m\u001b[1;32m    677\u001b[0m \u001b[0;34m\u001b[0m\u001b[0m\n\u001b[1;32m    678\u001b[0m     \u001b[0mparser_f\u001b[0m\u001b[0;34m.\u001b[0m\u001b[0m__name__\u001b[0m \u001b[0;34m=\u001b[0m \u001b[0mname\u001b[0m\u001b[0;34m\u001b[0m\u001b[0;34m\u001b[0m\u001b[0m\n",
      "\u001b[0;32m~/opt/anaconda3/lib/python3.8/site-packages/pandas/io/parsers.py\u001b[0m in \u001b[0;36m_read\u001b[0;34m(filepath_or_buffer, kwds)\u001b[0m\n\u001b[1;32m    446\u001b[0m \u001b[0;34m\u001b[0m\u001b[0m\n\u001b[1;32m    447\u001b[0m     \u001b[0;31m# Create the parser.\u001b[0m\u001b[0;34m\u001b[0m\u001b[0;34m\u001b[0m\u001b[0;34m\u001b[0m\u001b[0m\n\u001b[0;32m--> 448\u001b[0;31m     \u001b[0mparser\u001b[0m \u001b[0;34m=\u001b[0m \u001b[0mTextFileReader\u001b[0m\u001b[0;34m(\u001b[0m\u001b[0mfp_or_buf\u001b[0m\u001b[0;34m,\u001b[0m \u001b[0;34m**\u001b[0m\u001b[0mkwds\u001b[0m\u001b[0;34m)\u001b[0m\u001b[0;34m\u001b[0m\u001b[0;34m\u001b[0m\u001b[0m\n\u001b[0m\u001b[1;32m    449\u001b[0m \u001b[0;34m\u001b[0m\u001b[0m\n\u001b[1;32m    450\u001b[0m     \u001b[0;32mif\u001b[0m \u001b[0mchunksize\u001b[0m \u001b[0;32mor\u001b[0m \u001b[0miterator\u001b[0m\u001b[0;34m:\u001b[0m\u001b[0;34m\u001b[0m\u001b[0;34m\u001b[0m\u001b[0m\n",
      "\u001b[0;32m~/opt/anaconda3/lib/python3.8/site-packages/pandas/io/parsers.py\u001b[0m in \u001b[0;36m__init__\u001b[0;34m(self, f, engine, **kwds)\u001b[0m\n\u001b[1;32m    878\u001b[0m             \u001b[0mself\u001b[0m\u001b[0;34m.\u001b[0m\u001b[0moptions\u001b[0m\u001b[0;34m[\u001b[0m\u001b[0;34m\"has_index_names\"\u001b[0m\u001b[0;34m]\u001b[0m \u001b[0;34m=\u001b[0m \u001b[0mkwds\u001b[0m\u001b[0;34m[\u001b[0m\u001b[0;34m\"has_index_names\"\u001b[0m\u001b[0;34m]\u001b[0m\u001b[0;34m\u001b[0m\u001b[0;34m\u001b[0m\u001b[0m\n\u001b[1;32m    879\u001b[0m \u001b[0;34m\u001b[0m\u001b[0m\n\u001b[0;32m--> 880\u001b[0;31m         \u001b[0mself\u001b[0m\u001b[0;34m.\u001b[0m\u001b[0m_make_engine\u001b[0m\u001b[0;34m(\u001b[0m\u001b[0mself\u001b[0m\u001b[0;34m.\u001b[0m\u001b[0mengine\u001b[0m\u001b[0;34m)\u001b[0m\u001b[0;34m\u001b[0m\u001b[0;34m\u001b[0m\u001b[0m\n\u001b[0m\u001b[1;32m    881\u001b[0m \u001b[0;34m\u001b[0m\u001b[0m\n\u001b[1;32m    882\u001b[0m     \u001b[0;32mdef\u001b[0m \u001b[0mclose\u001b[0m\u001b[0;34m(\u001b[0m\u001b[0mself\u001b[0m\u001b[0;34m)\u001b[0m\u001b[0;34m:\u001b[0m\u001b[0;34m\u001b[0m\u001b[0;34m\u001b[0m\u001b[0m\n",
      "\u001b[0;32m~/opt/anaconda3/lib/python3.8/site-packages/pandas/io/parsers.py\u001b[0m in \u001b[0;36m_make_engine\u001b[0;34m(self, engine)\u001b[0m\n\u001b[1;32m   1112\u001b[0m     \u001b[0;32mdef\u001b[0m \u001b[0m_make_engine\u001b[0m\u001b[0;34m(\u001b[0m\u001b[0mself\u001b[0m\u001b[0;34m,\u001b[0m \u001b[0mengine\u001b[0m\u001b[0;34m=\u001b[0m\u001b[0;34m\"c\"\u001b[0m\u001b[0;34m)\u001b[0m\u001b[0;34m:\u001b[0m\u001b[0;34m\u001b[0m\u001b[0;34m\u001b[0m\u001b[0m\n\u001b[1;32m   1113\u001b[0m         \u001b[0;32mif\u001b[0m \u001b[0mengine\u001b[0m \u001b[0;34m==\u001b[0m \u001b[0;34m\"c\"\u001b[0m\u001b[0;34m:\u001b[0m\u001b[0;34m\u001b[0m\u001b[0;34m\u001b[0m\u001b[0m\n\u001b[0;32m-> 1114\u001b[0;31m             \u001b[0mself\u001b[0m\u001b[0;34m.\u001b[0m\u001b[0m_engine\u001b[0m \u001b[0;34m=\u001b[0m \u001b[0mCParserWrapper\u001b[0m\u001b[0;34m(\u001b[0m\u001b[0mself\u001b[0m\u001b[0;34m.\u001b[0m\u001b[0mf\u001b[0m\u001b[0;34m,\u001b[0m \u001b[0;34m**\u001b[0m\u001b[0mself\u001b[0m\u001b[0;34m.\u001b[0m\u001b[0moptions\u001b[0m\u001b[0;34m)\u001b[0m\u001b[0;34m\u001b[0m\u001b[0;34m\u001b[0m\u001b[0m\n\u001b[0m\u001b[1;32m   1115\u001b[0m         \u001b[0;32melse\u001b[0m\u001b[0;34m:\u001b[0m\u001b[0;34m\u001b[0m\u001b[0;34m\u001b[0m\u001b[0m\n\u001b[1;32m   1116\u001b[0m             \u001b[0;32mif\u001b[0m \u001b[0mengine\u001b[0m \u001b[0;34m==\u001b[0m \u001b[0;34m\"python\"\u001b[0m\u001b[0;34m:\u001b[0m\u001b[0;34m\u001b[0m\u001b[0;34m\u001b[0m\u001b[0m\n",
      "\u001b[0;32m~/opt/anaconda3/lib/python3.8/site-packages/pandas/io/parsers.py\u001b[0m in \u001b[0;36m__init__\u001b[0;34m(self, src, **kwds)\u001b[0m\n\u001b[1;32m   1889\u001b[0m         \u001b[0mkwds\u001b[0m\u001b[0;34m[\u001b[0m\u001b[0;34m\"usecols\"\u001b[0m\u001b[0;34m]\u001b[0m \u001b[0;34m=\u001b[0m \u001b[0mself\u001b[0m\u001b[0;34m.\u001b[0m\u001b[0musecols\u001b[0m\u001b[0;34m\u001b[0m\u001b[0;34m\u001b[0m\u001b[0m\n\u001b[1;32m   1890\u001b[0m \u001b[0;34m\u001b[0m\u001b[0m\n\u001b[0;32m-> 1891\u001b[0;31m         \u001b[0mself\u001b[0m\u001b[0;34m.\u001b[0m\u001b[0m_reader\u001b[0m \u001b[0;34m=\u001b[0m \u001b[0mparsers\u001b[0m\u001b[0;34m.\u001b[0m\u001b[0mTextReader\u001b[0m\u001b[0;34m(\u001b[0m\u001b[0msrc\u001b[0m\u001b[0;34m,\u001b[0m \u001b[0;34m**\u001b[0m\u001b[0mkwds\u001b[0m\u001b[0;34m)\u001b[0m\u001b[0;34m\u001b[0m\u001b[0;34m\u001b[0m\u001b[0m\n\u001b[0m\u001b[1;32m   1892\u001b[0m         \u001b[0mself\u001b[0m\u001b[0;34m.\u001b[0m\u001b[0munnamed_cols\u001b[0m \u001b[0;34m=\u001b[0m \u001b[0mself\u001b[0m\u001b[0;34m.\u001b[0m\u001b[0m_reader\u001b[0m\u001b[0;34m.\u001b[0m\u001b[0munnamed_cols\u001b[0m\u001b[0;34m\u001b[0m\u001b[0;34m\u001b[0m\u001b[0m\n\u001b[1;32m   1893\u001b[0m \u001b[0;34m\u001b[0m\u001b[0m\n",
      "\u001b[0;32mpandas/_libs/parsers.pyx\u001b[0m in \u001b[0;36mpandas._libs.parsers.TextReader.__cinit__\u001b[0;34m()\u001b[0m\n",
      "\u001b[0;32mpandas/_libs/parsers.pyx\u001b[0m in \u001b[0;36mpandas._libs.parsers.TextReader._setup_parser_source\u001b[0;34m()\u001b[0m\n",
      "\u001b[0;31mFileNotFoundError\u001b[0m: [Errno 2] File models/pytorch/exp_10-3_emotions/stats.csv does not exist: 'models/pytorch/exp_10-3_emotions/stats.csv'"
     ]
    }
   ],
   "source": [
    "experiments = []\n",
    "\n",
    "for filename in filenames:\n",
    "    exp = pd.read_csv(filename)\n",
    "    experiments.append(exp)"
   ]
  },
  {
   "cell_type": "code",
   "execution_count": null,
   "metadata": {},
   "outputs": [],
   "source": [
    "train_losses = {}\n",
    "val_losses = {}\n",
    "\n",
    "train_frame_acc = {}\n",
    "val_frame_acc = {}"
   ]
  },
  {
   "cell_type": "code",
   "execution_count": null,
   "metadata": {},
   "outputs": [],
   "source": [
    "len(experiments)"
   ]
  },
  {
   "cell_type": "code",
   "execution_count": null,
   "metadata": {},
   "outputs": [],
   "source": [
    "for name, exp in zip(names, experiments):\n",
    "    train_frame_acc[name] = list(exp['frame acc train: anglický'])\n",
    "    val_frame_acc[name] = list(exp['frame acc val: anglický'])\n",
    "    \n",
    "    train_losses[name] = list(exp['losses train: anglický'])\n",
    "    val_losses[name] = list(exp['losses val: anglický'])"
   ]
  },
  {
   "cell_type": "code",
   "execution_count": null,
   "metadata": {},
   "outputs": [],
   "source": [
    "# name = '2 vrstvy'\n",
    "# print(\"val loss \", val_losses[name][-1])\n",
    "# print(\"train loss \", train_losses[name][-1])\n",
    "# print(\"val frame acc \", val_frame_acc[name][-1])\n",
    "# print(\"train frame acc\", train_frame_acc[name][-1])"
   ]
  },
  {
   "cell_type": "code",
   "execution_count": null,
   "metadata": {},
   "outputs": [],
   "source": [
    "val_losses.keys()"
   ]
  },
  {
   "cell_type": "code",
   "execution_count": null,
   "metadata": {},
   "outputs": [],
   "source": [
    "empty = \"#\"\n",
    "titles = [\n",
    "    \"Trénovací přesnost pro vzorky\",\n",
    "    \"Validační přesnost pro vzorky\",\n",
    "    \"Trénovací ztráta\",\n",
    "    \"Validační ztráta\",\n",
    "]\n",
    "\n",
    "y_labels = [\n",
    "    \"přesnost\",\n",
    "    \"přesnost\",\n",
    "    \"ztráta\",\n",
    "    \"ztráta\",\n",
    "]\n",
    "\n",
    "items = [\n",
    "    train_frame_acc,\n",
    "    val_frame_acc,\n",
    "    train_losses,\n",
    "    val_losses,\n",
    "]\n",
    "\n",
    "n_rows = 2\n",
    "n_cols = 2\n",
    "dpi = 300\n",
    "final_fig , axes = plt.subplots(n_rows, n_cols, dpi=dpi)\n",
    "final_fig.set_figheight(10)\n",
    "final_fig.set_figwidth(15)\n",
    "\n",
    "for row in range(n_rows):\n",
    "    for col in range(n_cols):\n",
    "        ax = axes[row][col]\n",
    "        \n",
    "        index = row * n_cols + col\n",
    "        title = titles[index]\n",
    "        \n",
    "        if title == empty:\n",
    "            final_fig.delaxes(axes[row][col])\n",
    "            continue\n",
    "        \n",
    "        item = items[index]\n",
    "        \n",
    "        y_label = y_labels[index]\n",
    "        \n",
    "        plot(ax, item, title, y_label, \"epocha\")"
   ]
  },
  {
   "cell_type": "code",
   "execution_count": null,
   "metadata": {},
   "outputs": [],
   "source": [
    "dirname = \"/Users/tomaspetricek/TUL/TUL_2020:21/BP/Speech_Emotion_Recognition/Attachments/\"\n",
    "title = \"prubeh_trenovani_sekce_{}\".format(section)\n",
    "filename = title + \".png\"\n",
    "path = os.path.join(dirname, filename)\n",
    "final_fig.savefig(path, dpi=dpi)"
   ]
  },
  {
   "cell_type": "code",
   "execution_count": null,
   "metadata": {},
   "outputs": [],
   "source": []
  }
 ],
 "metadata": {
  "kernelspec": {
   "display_name": "Python 3",
   "language": "python",
   "name": "python3"
  },
  "language_info": {
   "codemirror_mode": {
    "name": "ipython",
    "version": 3
   },
   "file_extension": ".py",
   "mimetype": "text/x-python",
   "name": "python",
   "nbconvert_exporter": "python",
   "pygments_lexer": "ipython3",
   "version": "3.8.3"
  }
 },
 "nbformat": 4,
 "nbformat_minor": 4
}
