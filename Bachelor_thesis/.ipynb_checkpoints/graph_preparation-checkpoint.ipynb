{
 "cells": [
  {
   "cell_type": "code",
   "execution_count": 1,
   "metadata": {},
   "outputs": [],
   "source": [
    "import pandas as pd\n",
    "import matplotlib.pyplot as plt\n",
    "import os"
   ]
  },
  {
   "cell_type": "code",
   "execution_count": 2,
   "metadata": {},
   "outputs": [],
   "source": [
    "def plot(ax, items, title, y_label, x_label):\n",
    "\n",
    "    labels = list()\n",
    "    n_epochs= None\n",
    "    for label, item in items.items():\n",
    "        if item:\n",
    "            ax.plot(item)\n",
    "            labels.append(label)\n",
    "            n_epochs = len(item)\n",
    "\n",
    "    ax.set_title(title)\n",
    "    ax.set_xlabel(y_label)\n",
    "    ax.set_ylabel(x_label)\n",
    "    ax.legend(labels, loc='upper left')\n",
    "    plt.xticks(np.arange(n_epochs), np.arange(1, n_epochs + 1))"
   ]
  },
  {
   "cell_type": "code",
   "execution_count": 3,
   "metadata": {},
   "outputs": [],
   "source": [
    "section = \"b-vsrtvy\"\n",
    "path = \"models/pytorch/{}/stats.csv\"\n",
    "\n",
    "filenames = [\n",
    "    path.format(\"exp_01-b-baseline\"),\n",
    "    path.format(\"exp_02-b-2_layers\"),\n",
    "    path.format(\"exp_03-b-4_layers\"),\n",
    "    path.format(\"exp_04-b-5_layers\"),\n",
    "]\n",
    "\n",
    "names = [\n",
    "    \"výchozí model\",\n",
    "    \"2 skryté vrstvy\",\n",
    "    \"4 skryté vsrtvy\",\n",
    "    \"5 skrytých vrstev\",\n",
    "]"
   ]
  },
  {
   "cell_type": "code",
   "execution_count": 4,
   "metadata": {},
   "outputs": [
    {
     "data": {
      "text/plain": [
       "'\\nsection = \"okoli\"\\npath = \"models/pytorch/{}/stats.csv\"\\n\\nfilenames = [\\n    path.format(\"exp_01-baseline\"),\\n    path.format(\"exp_05-margin_5\"),\\n    path.format(\"exp_06-margin_15\"),\\n    path.format(\"exp_07-margin_30\"),\\n    path.format(\"exp_08-margin_50\"),\\n]\\n\\nnames = [\\n    \"výchozí model\",\\n    \"velikost okolí 5\",\\n    \"velikost okolí 15\",\\n    \"velikost okolí 30\",\\n    \"velikost okolí 50\",\\n]\\n'"
      ]
     },
     "execution_count": 4,
     "metadata": {},
     "output_type": "execute_result"
    }
   ],
   "source": [
    "\"\"\"\n",
    "section = \"okoli\"\n",
    "path = \"models/pytorch/{}/stats.csv\"\n",
    "\n",
    "filenames = [\n",
    "    path.format(\"exp_01-baseline\"),\n",
    "    path.format(\"exp_05-margin_5\"),\n",
    "    path.format(\"exp_06-margin_15\"),\n",
    "    path.format(\"exp_07-margin_30\"),\n",
    "    path.format(\"exp_08-margin_50\"),\n",
    "]\n",
    "\n",
    "names = [\n",
    "    \"výchozí model\",\n",
    "    \"velikost okolí 5\",\n",
    "    \"velikost okolí 15\",\n",
    "    \"velikost okolí 30\",\n",
    "    \"velikost okolí 50\",\n",
    "]\n",
    "\"\"\""
   ]
  },
  {
   "cell_type": "code",
   "execution_count": 5,
   "metadata": {},
   "outputs": [
    {
     "data": {
      "text/plain": [
       "'\\nsection = \"sirka\"\\npath = \"models/pytorch/{}/stats.csv\"\\n\\nfilenames = [\\n    path.format(\"exp_01-baseline\"),\\n    path.format(\"exp_09-width_16\"),\\n    path.format(\"exp_10-width_64\"),\\n    path.format(\"exp_11-width_256\"),\\n    path.format(\"exp_12-width_512\"),\\n]\\n\\nnames = [\\n    \"výchozí model\",\\n    \"šířka vrstev 16\",\\n    \"šířka vrstev 64\",\\n    \"šířka vrstev 256\",\\n    \"šířka vrstev 512\",\\n]\\n'"
      ]
     },
     "execution_count": 5,
     "metadata": {},
     "output_type": "execute_result"
    }
   ],
   "source": [
    "\"\"\"\n",
    "section = \"sirka\"\n",
    "path = \"models/pytorch/{}/stats.csv\"\n",
    "\n",
    "filenames = [\n",
    "    path.format(\"exp_01-baseline\"),\n",
    "    path.format(\"exp_09-width_16\"),\n",
    "    path.format(\"exp_10-width_64\"),\n",
    "    path.format(\"exp_11-width_256\"),\n",
    "    path.format(\"exp_12-width_512\"),\n",
    "]\n",
    "\n",
    "names = [\n",
    "    \"výchozí model\",\n",
    "    \"šířka vrstev 16\",\n",
    "    \"šířka vrstev 64\",\n",
    "    \"šířka vrstev 256\",\n",
    "    \"šířka vrstev 512\",\n",
    "]\n",
    "\"\"\""
   ]
  },
  {
   "cell_type": "code",
   "execution_count": 6,
   "metadata": {},
   "outputs": [
    {
     "data": {
      "text/plain": [
       "'\\nsection = \"snizeni\"\\npath = \"models/pytorch/{}/stats.csv\"\\n\\nfilenames = [\\n    path.format(\"exp_01-baseline\"),\\n    path.format(\"exp_13-4_emotions\"),\\n    path.format(\"exp_14-3_emotions\"),\\n]\\n\\nnames = [\\n    \"výchozí model\",\\n    \"3 emoce\",\\n    \"4 emoce\",\\n]\\n'"
      ]
     },
     "execution_count": 6,
     "metadata": {},
     "output_type": "execute_result"
    }
   ],
   "source": [
    "\"\"\"\n",
    "section = \"snizeni\"\n",
    "path = \"models/pytorch/{}/stats.csv\"\n",
    "\n",
    "filenames = [\n",
    "    path.format(\"exp_01-baseline\"),\n",
    "    path.format(\"exp_13-4_emotions\"),\n",
    "    path.format(\"exp_14-3_emotions\"),\n",
    "]\n",
    "\n",
    "names = [\n",
    "    \"výchozí model\",\n",
    "    \"3 emoce\",\n",
    "    \"4 emoce\",\n",
    "]\n",
    "\"\"\""
   ]
  },
  {
   "cell_type": "code",
   "execution_count": 7,
   "metadata": {},
   "outputs": [
    {
     "data": {
      "text/plain": [
       "'\\npath = \"models/pytorch/{}/stats.csv\"\\n\\nsection = \"final\"\\n\\nfilenames = [\\n    path.format(\"exp_17-batch_128\"),\\n    path.format(\"exp_18-batch_128-20_epochs\"),\\n    path.format(\"exp_19-batch_128-30_epochs\"),\\n]\\n\\nnames = [\\n    \"závěrečný model\"\\n]\\n'"
      ]
     },
     "execution_count": 7,
     "metadata": {},
     "output_type": "execute_result"
    }
   ],
   "source": [
    "\"\"\"\n",
    "path = \"models/pytorch/{}/stats.csv\"\n",
    "\n",
    "section = \"final\"\n",
    "\n",
    "filenames = [\n",
    "    path.format(\"exp_17-batch_128\"),\n",
    "    path.format(\"exp_18-batch_128-20_epochs\"),\n",
    "    path.format(\"exp_19-batch_128-30_epochs\"),\n",
    "]\n",
    "\n",
    "names = [\n",
    "    \"závěrečný model\"\n",
    "]\n",
    "\"\"\""
   ]
  },
  {
   "cell_type": "code",
   "execution_count": 8,
   "metadata": {},
   "outputs": [
    {
     "data": {
      "text/plain": [
       "'\\npath = \"models/pytorch/{}/stats.csv\"\\n\\nsection = \"regularization\"\\n\\nfilenames = [\\n    path.format(\"exp_01-baseline\"),\\n    path.format(\"exp_15-drop_out\"),\\n    path.format(\"exp_16-batch_norm\"),\\n]\\n\\nnames = [\\n    \"výchozí model\",\\n    \"drop out\",\\n    \"drop out s normalizací dávek\",\\n]\\n'"
      ]
     },
     "execution_count": 8,
     "metadata": {},
     "output_type": "execute_result"
    }
   ],
   "source": [
    "\"\"\"\n",
    "path = \"models/pytorch/{}/stats.csv\"\n",
    "\n",
    "section = \"regularization\"\n",
    "\n",
    "filenames = [\n",
    "    path.format(\"exp_01-baseline\"),\n",
    "    path.format(\"exp_15-drop_out\"),\n",
    "    path.format(\"exp_16-batch_norm\"),\n",
    "]\n",
    "\n",
    "names = [\n",
    "    \"výchozí model\",\n",
    "    \"drop out\",\n",
    "    \"drop out s normalizací dávek\",\n",
    "]\n",
    "\"\"\""
   ]
  },
  {
   "cell_type": "code",
   "execution_count": 9,
   "metadata": {},
   "outputs": [
    {
     "data": {
      "text/plain": [
       "'\\npath = \"models/pytorch/{}/stats.csv\"\\n\\nsection = \"batch_size\"\\n\\nfilenames = [\\n    path.format(\"exp_16-batch_norm\"),\\n    path.format(\"exp_21-batch_64\"),\\n    path.format(\"exp_17-batch_128\"),\\n    path.format(\"exp_20-batch_256\"),\\n]\\n\\nnames = [\\n    \"drop out s normalizací dávek\",\\n    \"velikost dávky 64\",\\n    \"velikost dávky 128\",\\n    \"velikost dávky 256\",\\n]\\n'"
      ]
     },
     "execution_count": 9,
     "metadata": {},
     "output_type": "execute_result"
    }
   ],
   "source": [
    "\"\"\"\n",
    "path = \"models/pytorch/{}/stats.csv\"\n",
    "\n",
    "section = \"batch_size\"\n",
    "\n",
    "filenames = [\n",
    "    path.format(\"exp_16-batch_norm\"),\n",
    "    path.format(\"exp_21-batch_64\"),\n",
    "    path.format(\"exp_17-batch_128\"),\n",
    "    path.format(\"exp_20-batch_256\"),\n",
    "]\n",
    "\n",
    "names = [\n",
    "    \"drop out s normalizací dávek\",\n",
    "    \"velikost dávky 64\",\n",
    "    \"velikost dávky 128\",\n",
    "    \"velikost dávky 256\",\n",
    "]\n",
    "\"\"\""
   ]
  },
  {
   "cell_type": "code",
   "execution_count": 10,
   "metadata": {},
   "outputs": [],
   "source": [
    "experiments = []\n",
    "\n",
    "for filename in filenames:\n",
    "    exp = pd.read_csv(filename)\n",
    "    experiments.append(exp)"
   ]
  },
  {
   "cell_type": "code",
   "execution_count": 11,
   "metadata": {},
   "outputs": [
    {
     "data": {
      "text/plain": [
       "'\\nexperiments = pd.concat(experiments)\\nexperiments.reset_index(inplace=True, drop=True)\\nexperiments = [experiments]\\n'"
      ]
     },
     "execution_count": 11,
     "metadata": {},
     "output_type": "execute_result"
    }
   ],
   "source": [
    "\"\"\"\n",
    "experiments = pd.concat(experiments)\n",
    "experiments.reset_index(inplace=True, drop=True)\n",
    "experiments = [experiments]\n",
    "\"\"\""
   ]
  },
  {
   "cell_type": "code",
   "execution_count": 12,
   "metadata": {},
   "outputs": [],
   "source": [
    "train_losses = {}\n",
    "val_losses = {}\n",
    "\n",
    "train_frame_acc = {}\n",
    "val_frame_acc = {}"
   ]
  },
  {
   "cell_type": "code",
   "execution_count": 13,
   "metadata": {},
   "outputs": [
    {
     "data": {
      "text/plain": [
       "4"
      ]
     },
     "execution_count": 13,
     "metadata": {},
     "output_type": "execute_result"
    }
   ],
   "source": [
    "len(experiments)"
   ]
  },
  {
   "cell_type": "code",
   "execution_count": 14,
   "metadata": {},
   "outputs": [
    {
     "ename": "KeyError",
     "evalue": "'frame acc train: anglický'",
     "output_type": "error",
     "traceback": [
      "\u001b[0;31m---------------------------------------------------------------------------\u001b[0m",
      "\u001b[0;31mKeyError\u001b[0m                                  Traceback (most recent call last)",
      "\u001b[0;32m/Users/tomaspetricek/opt/anaconda3/envs/HANDS-ON_MACHINE_LEARNING_WITH_SCIKIT-LEARN,_KERAS,_AND_TENSORFLOW/lib/python3.7/site-packages/pandas/core/indexes/base.py\u001b[0m in \u001b[0;36mget_loc\u001b[0;34m(self, key, method, tolerance)\u001b[0m\n\u001b[1;32m   2894\u001b[0m             \u001b[0;32mtry\u001b[0m\u001b[0;34m:\u001b[0m\u001b[0;34m\u001b[0m\u001b[0;34m\u001b[0m\u001b[0m\n\u001b[0;32m-> 2895\u001b[0;31m                 \u001b[0;32mreturn\u001b[0m \u001b[0mself\u001b[0m\u001b[0;34m.\u001b[0m\u001b[0m_engine\u001b[0m\u001b[0;34m.\u001b[0m\u001b[0mget_loc\u001b[0m\u001b[0;34m(\u001b[0m\u001b[0mcasted_key\u001b[0m\u001b[0;34m)\u001b[0m\u001b[0;34m\u001b[0m\u001b[0;34m\u001b[0m\u001b[0m\n\u001b[0m\u001b[1;32m   2896\u001b[0m             \u001b[0;32mexcept\u001b[0m \u001b[0mKeyError\u001b[0m \u001b[0;32mas\u001b[0m \u001b[0merr\u001b[0m\u001b[0;34m:\u001b[0m\u001b[0;34m\u001b[0m\u001b[0;34m\u001b[0m\u001b[0m\n",
      "\u001b[0;32mpandas/_libs/index.pyx\u001b[0m in \u001b[0;36mpandas._libs.index.IndexEngine.get_loc\u001b[0;34m()\u001b[0m\n",
      "\u001b[0;32mpandas/_libs/index.pyx\u001b[0m in \u001b[0;36mpandas._libs.index.IndexEngine.get_loc\u001b[0;34m()\u001b[0m\n",
      "\u001b[0;32mpandas/_libs/hashtable_class_helper.pxi\u001b[0m in \u001b[0;36mpandas._libs.hashtable.PyObjectHashTable.get_item\u001b[0;34m()\u001b[0m\n",
      "\u001b[0;32mpandas/_libs/hashtable_class_helper.pxi\u001b[0m in \u001b[0;36mpandas._libs.hashtable.PyObjectHashTable.get_item\u001b[0;34m()\u001b[0m\n",
      "\u001b[0;31mKeyError\u001b[0m: 'frame acc train: anglický'",
      "\nThe above exception was the direct cause of the following exception:\n",
      "\u001b[0;31mKeyError\u001b[0m                                  Traceback (most recent call last)",
      "\u001b[0;32m<ipython-input-14-702df4a1b7ce>\u001b[0m in \u001b[0;36m<module>\u001b[0;34m()\u001b[0m\n\u001b[1;32m      1\u001b[0m \u001b[0;32mfor\u001b[0m \u001b[0mname\u001b[0m\u001b[0;34m,\u001b[0m \u001b[0mexp\u001b[0m \u001b[0;32min\u001b[0m \u001b[0mzip\u001b[0m\u001b[0;34m(\u001b[0m\u001b[0mnames\u001b[0m\u001b[0;34m,\u001b[0m \u001b[0mexperiments\u001b[0m\u001b[0;34m)\u001b[0m\u001b[0;34m:\u001b[0m\u001b[0;34m\u001b[0m\u001b[0;34m\u001b[0m\u001b[0m\n\u001b[0;32m----> 2\u001b[0;31m     \u001b[0mtrain_frame_acc\u001b[0m\u001b[0;34m[\u001b[0m\u001b[0mname\u001b[0m\u001b[0;34m]\u001b[0m \u001b[0;34m=\u001b[0m \u001b[0mlist\u001b[0m\u001b[0;34m(\u001b[0m\u001b[0mexp\u001b[0m\u001b[0;34m[\u001b[0m\u001b[0;34m'frame acc train: anglický'\u001b[0m\u001b[0;34m]\u001b[0m\u001b[0;34m)\u001b[0m\u001b[0;34m\u001b[0m\u001b[0;34m\u001b[0m\u001b[0m\n\u001b[0m\u001b[1;32m      3\u001b[0m     \u001b[0mval_frame_acc\u001b[0m\u001b[0;34m[\u001b[0m\u001b[0mname\u001b[0m\u001b[0;34m]\u001b[0m \u001b[0;34m=\u001b[0m \u001b[0mlist\u001b[0m\u001b[0;34m(\u001b[0m\u001b[0mexp\u001b[0m\u001b[0;34m[\u001b[0m\u001b[0;34m'frame acc val: anglický'\u001b[0m\u001b[0;34m]\u001b[0m\u001b[0;34m)\u001b[0m\u001b[0;34m\u001b[0m\u001b[0;34m\u001b[0m\u001b[0m\n\u001b[1;32m      4\u001b[0m \u001b[0;34m\u001b[0m\u001b[0m\n\u001b[1;32m      5\u001b[0m     \u001b[0mtrain_losses\u001b[0m\u001b[0;34m[\u001b[0m\u001b[0mname\u001b[0m\u001b[0;34m]\u001b[0m \u001b[0;34m=\u001b[0m \u001b[0mlist\u001b[0m\u001b[0;34m(\u001b[0m\u001b[0mexp\u001b[0m\u001b[0;34m[\u001b[0m\u001b[0;34m'losses train: anglický'\u001b[0m\u001b[0;34m]\u001b[0m\u001b[0;34m)\u001b[0m\u001b[0;34m\u001b[0m\u001b[0;34m\u001b[0m\u001b[0m\n",
      "\u001b[0;32m/Users/tomaspetricek/opt/anaconda3/envs/HANDS-ON_MACHINE_LEARNING_WITH_SCIKIT-LEARN,_KERAS,_AND_TENSORFLOW/lib/python3.7/site-packages/pandas/core/frame.py\u001b[0m in \u001b[0;36m__getitem__\u001b[0;34m(self, key)\u001b[0m\n\u001b[1;32m   2900\u001b[0m             \u001b[0;32mif\u001b[0m \u001b[0mself\u001b[0m\u001b[0;34m.\u001b[0m\u001b[0mcolumns\u001b[0m\u001b[0;34m.\u001b[0m\u001b[0mnlevels\u001b[0m \u001b[0;34m>\u001b[0m \u001b[0;36m1\u001b[0m\u001b[0;34m:\u001b[0m\u001b[0;34m\u001b[0m\u001b[0;34m\u001b[0m\u001b[0m\n\u001b[1;32m   2901\u001b[0m                 \u001b[0;32mreturn\u001b[0m \u001b[0mself\u001b[0m\u001b[0;34m.\u001b[0m\u001b[0m_getitem_multilevel\u001b[0m\u001b[0;34m(\u001b[0m\u001b[0mkey\u001b[0m\u001b[0;34m)\u001b[0m\u001b[0;34m\u001b[0m\u001b[0;34m\u001b[0m\u001b[0m\n\u001b[0;32m-> 2902\u001b[0;31m             \u001b[0mindexer\u001b[0m \u001b[0;34m=\u001b[0m \u001b[0mself\u001b[0m\u001b[0;34m.\u001b[0m\u001b[0mcolumns\u001b[0m\u001b[0;34m.\u001b[0m\u001b[0mget_loc\u001b[0m\u001b[0;34m(\u001b[0m\u001b[0mkey\u001b[0m\u001b[0;34m)\u001b[0m\u001b[0;34m\u001b[0m\u001b[0;34m\u001b[0m\u001b[0m\n\u001b[0m\u001b[1;32m   2903\u001b[0m             \u001b[0;32mif\u001b[0m \u001b[0mis_integer\u001b[0m\u001b[0;34m(\u001b[0m\u001b[0mindexer\u001b[0m\u001b[0;34m)\u001b[0m\u001b[0;34m:\u001b[0m\u001b[0;34m\u001b[0m\u001b[0;34m\u001b[0m\u001b[0m\n\u001b[1;32m   2904\u001b[0m                 \u001b[0mindexer\u001b[0m \u001b[0;34m=\u001b[0m \u001b[0;34m[\u001b[0m\u001b[0mindexer\u001b[0m\u001b[0;34m]\u001b[0m\u001b[0;34m\u001b[0m\u001b[0;34m\u001b[0m\u001b[0m\n",
      "\u001b[0;32m/Users/tomaspetricek/opt/anaconda3/envs/HANDS-ON_MACHINE_LEARNING_WITH_SCIKIT-LEARN,_KERAS,_AND_TENSORFLOW/lib/python3.7/site-packages/pandas/core/indexes/base.py\u001b[0m in \u001b[0;36mget_loc\u001b[0;34m(self, key, method, tolerance)\u001b[0m\n\u001b[1;32m   2895\u001b[0m                 \u001b[0;32mreturn\u001b[0m \u001b[0mself\u001b[0m\u001b[0;34m.\u001b[0m\u001b[0m_engine\u001b[0m\u001b[0;34m.\u001b[0m\u001b[0mget_loc\u001b[0m\u001b[0;34m(\u001b[0m\u001b[0mcasted_key\u001b[0m\u001b[0;34m)\u001b[0m\u001b[0;34m\u001b[0m\u001b[0;34m\u001b[0m\u001b[0m\n\u001b[1;32m   2896\u001b[0m             \u001b[0;32mexcept\u001b[0m \u001b[0mKeyError\u001b[0m \u001b[0;32mas\u001b[0m \u001b[0merr\u001b[0m\u001b[0;34m:\u001b[0m\u001b[0;34m\u001b[0m\u001b[0;34m\u001b[0m\u001b[0m\n\u001b[0;32m-> 2897\u001b[0;31m                 \u001b[0;32mraise\u001b[0m \u001b[0mKeyError\u001b[0m\u001b[0;34m(\u001b[0m\u001b[0mkey\u001b[0m\u001b[0;34m)\u001b[0m \u001b[0;32mfrom\u001b[0m \u001b[0merr\u001b[0m\u001b[0;34m\u001b[0m\u001b[0;34m\u001b[0m\u001b[0m\n\u001b[0m\u001b[1;32m   2898\u001b[0m \u001b[0;34m\u001b[0m\u001b[0m\n\u001b[1;32m   2899\u001b[0m         \u001b[0;32mif\u001b[0m \u001b[0mtolerance\u001b[0m \u001b[0;32mis\u001b[0m \u001b[0;32mnot\u001b[0m \u001b[0;32mNone\u001b[0m\u001b[0;34m:\u001b[0m\u001b[0;34m\u001b[0m\u001b[0;34m\u001b[0m\u001b[0m\n",
      "\u001b[0;31mKeyError\u001b[0m: 'frame acc train: anglický'"
     ]
    }
   ],
   "source": [
    "for name, exp in zip(names, experiments):\n",
    "    train_frame_acc[name] = list(exp['frame acc trénovací sada'])\n",
    "    val_frame_acc[name] = list(exp['frame acc validační sada'])\n",
    "    \n",
    "    train_losses[name] = list(exp['losses trénovací sada'])\n",
    "    val_losses[name] = list(exp['losses validační sada'])"
   ]
  },
  {
   "cell_type": "code",
   "execution_count": null,
   "metadata": {},
   "outputs": [],
   "source": [
    "# name = '2 vrstvy'\n",
    "# print(\"val loss \", val_losses[name][-1])\n",
    "# print(\"train loss \", train_losses[name][-1])\n",
    "# print(\"val frame acc \", val_frame_acc[name][-1])\n",
    "# print(\"train frame acc\", train_frame_acc[name][-1])"
   ]
  },
  {
   "cell_type": "code",
   "execution_count": null,
   "metadata": {},
   "outputs": [],
   "source": [
    "val_losses.keys()"
   ]
  },
  {
   "cell_type": "code",
   "execution_count": null,
   "metadata": {},
   "outputs": [],
   "source": [
    "empty = \"#\"\n",
    "titles = [\n",
    "    \"Trénovací přesnost pro vzorky\",\n",
    "    \"Validační přesnost pro vzorky\",\n",
    "    \"Trénovací ztráta\",\n",
    "    \"Validační ztráta\",\n",
    "]\n",
    "\n",
    "y_labels = [\n",
    "    \"přesnost\",\n",
    "    \"přesnost\",\n",
    "    \"ztráta\",\n",
    "    \"ztráta\",\n",
    "]\n",
    "\n",
    "items = [\n",
    "    train_frame_acc,\n",
    "    val_frame_acc,\n",
    "    train_losses,\n",
    "    val_losses,\n",
    "]\n",
    "\n",
    "n_rows = 2\n",
    "n_cols = 2\n",
    "dpi = 300\n",
    "final_fig , axes = plt.subplots(n_rows, n_cols, dpi=dpi)\n",
    "final_fig.set_figheight(10)\n",
    "final_fig.set_figwidth(15)\n",
    "\n",
    "for row in range(n_rows):\n",
    "    for col in range(n_cols):\n",
    "        ax = axes[row][col]\n",
    "        \n",
    "        index = row * n_cols + col\n",
    "        title = titles[index]\n",
    "        \n",
    "        if title == empty:\n",
    "            final_fig.delaxes(axes[row][col])\n",
    "            continue\n",
    "        \n",
    "        item = items[index]\n",
    "        \n",
    "        y_label = y_labels[index]\n",
    "        \n",
    "        plot(ax, item, title, y_label, \"epocha\")"
   ]
  },
  {
   "cell_type": "code",
   "execution_count": null,
   "metadata": {},
   "outputs": [],
   "source": [
    "dirname = \"/Users/tomaspetricek/TUL/TUL_2020:21/BP/Speech_Emotion_Recognition/Attachments/\"\n",
    "title = \"training_course_{}\".format(section)\n",
    "filename = title + \".png\"\n",
    "path = os.path.join(dirname, filename)\n",
    "final_fig.savefig(path, dpi=dpi)"
   ]
  },
  {
   "cell_type": "markdown",
   "metadata": {},
   "source": [
    "### Concatenate"
   ]
  },
  {
   "cell_type": "code",
   "execution_count": null,
   "metadata": {},
   "outputs": [],
   "source": []
  },
  {
   "cell_type": "code",
   "execution_count": null,
   "metadata": {},
   "outputs": [],
   "source": []
  },
  {
   "cell_type": "code",
   "execution_count": null,
   "metadata": {},
   "outputs": [],
   "source": []
  },
  {
   "cell_type": "code",
   "execution_count": null,
   "metadata": {},
   "outputs": [],
   "source": []
  }
 ],
 "metadata": {
  "kernelspec": {
   "display_name": "Python 3",
   "language": "python",
   "name": "python3"
  },
  "language_info": {
   "codemirror_mode": {
    "name": "ipython",
    "version": 3
   },
   "file_extension": ".py",
   "mimetype": "text/x-python",
   "name": "python",
   "nbconvert_exporter": "python",
   "pygments_lexer": "ipython3",
   "version": "3.7.9"
  }
 },
 "nbformat": 4,
 "nbformat_minor": 4
}
