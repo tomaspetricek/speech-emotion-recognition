{
 "cells": [
  {
   "cell_type": "code",
   "execution_count": 1,
   "metadata": {},
   "outputs": [],
   "source": [
    "import tensorflow as tf\n",
    "from tensorflow import keras\n",
    "import numpy as np\n",
    "\n",
    "from config import DATASET_PATH\n",
    "from datasets import (Dataset, RAVDESSLabel, TESSLabel, \n",
    "                     EMOVOLabel, SAVEELabel, MFCCData, WAVData,\n",
    "                     RAVDESSUnifiedLabel, TESSUnifiedLabel, SAVEEUnifiedLabel,\n",
    "                     EMOVOUnifiedLabel)\n",
    "\n",
    "from tools import add_margin, IndexPicker"
   ]
  },
  {
   "cell_type": "markdown",
   "metadata": {},
   "source": [
    "### Load Datasets"
   ]
  },
  {
   "cell_type": "code",
   "execution_count": 2,
   "metadata": {},
   "outputs": [],
   "source": [
    "ravdess_path = DATASET_PATH.format(language=\"english\", name=\"RAVDESS\", form=\"mfcc\")\n",
    "\n",
    "ravdess_mfcc_unified = Dataset(ravdess_path, MFCCData(), RAVDESSUnifiedLabel())"
   ]
  },
  {
   "cell_type": "code",
   "execution_count": 3,
   "metadata": {},
   "outputs": [],
   "source": [
    "tess_path = DATASET_PATH.format(language=\"english\", name=\"TESS\", form=\"mfcc\")\n",
    "\n",
    "tess_mfcc_unified = Dataset(tess_path, MFCCData(), TESSUnifiedLabel())"
   ]
  },
  {
   "cell_type": "code",
   "execution_count": 4,
   "metadata": {},
   "outputs": [],
   "source": [
    "savee_path = DATASET_PATH.format(language=\"english\", name=\"SAVEE\", form=\"mfcc\")\n",
    "\n",
    "savee_mfcc_unified = Dataset(savee_path, MFCCData(), SAVEEUnifiedLabel())"
   ]
  },
  {
   "cell_type": "code",
   "execution_count": 5,
   "metadata": {},
   "outputs": [],
   "source": [
    "emovo_path = DATASET_PATH.format(language=\"italian\", name=\"EMOVO\", form=\"mfcc\")\n",
    "\n",
    "emovo_mfcc_unified = Dataset(emovo_path, MFCCData(), EMOVOUnifiedLabel())"
   ]
  },
  {
   "cell_type": "markdown",
   "metadata": {},
   "source": [
    "### Combine Datasets"
   ]
  },
  {
   "cell_type": "code",
   "execution_count": 6,
   "metadata": {},
   "outputs": [],
   "source": [
    "ravdess_mfcc_unified.combine(savee_mfcc_unified, tess_mfcc_unified, emovo_mfcc_unified)"
   ]
  },
  {
   "cell_type": "code",
   "execution_count": 7,
   "metadata": {},
   "outputs": [],
   "source": [
    "dataset = ravdess_mfcc_unified"
   ]
  },
  {
   "cell_type": "code",
   "execution_count": 8,
   "metadata": {},
   "outputs": [],
   "source": [
    "samples = dataset.samples"
   ]
  },
  {
   "cell_type": "code",
   "execution_count": 9,
   "metadata": {},
   "outputs": [],
   "source": [
    "X = np.array(list(samples['coefficients']))\n",
    "\n",
    "y = np.array(list(samples['emotion']))"
   ]
  },
  {
   "cell_type": "code",
   "execution_count": 10,
   "metadata": {},
   "outputs": [],
   "source": [
    "n_classes = len(np.unique(y))"
   ]
  },
  {
   "cell_type": "code",
   "execution_count": 11,
   "metadata": {},
   "outputs": [
    {
     "data": {
      "text/plain": [
       "(1282163,)"
      ]
     },
     "execution_count": 11,
     "metadata": {},
     "output_type": "execute_result"
    }
   ],
   "source": [
    "y.shape"
   ]
  },
  {
   "cell_type": "code",
   "execution_count": 12,
   "metadata": {},
   "outputs": [
    {
     "data": {
      "text/plain": [
       "(1282163, 39)"
      ]
     },
     "execution_count": 12,
     "metadata": {},
     "output_type": "execute_result"
    }
   ],
   "source": [
    "X.shape"
   ]
  },
  {
   "cell_type": "markdown",
   "metadata": {},
   "source": [
    "### Add Margin"
   ]
  },
  {
   "cell_type": "code",
   "execution_count": 13,
   "metadata": {},
   "outputs": [
    {
     "name": "stdout",
     "output_type": "stream",
     "text": [
      "CPU times: user 11.5 s, sys: 4.2 s, total: 15.7 s\n",
      "Wall time: 16.2 s\n"
     ]
    }
   ],
   "source": [
    "index_picker = IndexPicker(10, 10)\n",
    "%time X_margined = np.array(add_margin(X, index_picker))"
   ]
  },
  {
   "cell_type": "code",
   "execution_count": 14,
   "metadata": {},
   "outputs": [
    {
     "data": {
      "text/plain": [
       "(1282163, 21, 39)"
      ]
     },
     "execution_count": 14,
     "metadata": {},
     "output_type": "execute_result"
    }
   ],
   "source": [
    "X_margined.shape"
   ]
  },
  {
   "cell_type": "markdown",
   "metadata": {},
   "source": [
    "### Reshape"
   ]
  },
  {
   "cell_type": "code",
   "execution_count": 15,
   "metadata": {},
   "outputs": [],
   "source": [
    "n_samples,window_length,n_features = X_margined.shape\n",
    "%time X_reshaped = np.array(np.reshape(X_margined, (n_samples, -1)))"
   ]
  },
  {
   "cell_type": "code",
   "execution_count": 16,
   "metadata": {},
   "outputs": [
    {
     "data": {
      "text/plain": [
       "(1282163, 819)"
      ]
     },
     "execution_count": 16,
     "metadata": {},
     "output_type": "execute_result"
    }
   ],
   "source": [
    "X_reshaped.shape"
   ]
  },
  {
   "cell_type": "markdown",
   "metadata": {},
   "source": [
    "## Modeling"
   ]
  },
  {
   "cell_type": "markdown",
   "metadata": {},
   "source": [
    "### Prepere for model fitting"
   ]
  },
  {
   "cell_type": "code",
   "execution_count": 17,
   "metadata": {},
   "outputs": [
    {
     "name": "stdout",
     "output_type": "stream",
     "text": [
      "CPU times: user 15.7 s, sys: 14.1 s, total: 29.8 s\n",
      "Wall time: 30.4 s\n",
      "CPU times: user 224 ms, sys: 128 ms, total: 352 ms\n",
      "Wall time: 353 ms\n",
      "CPU times: user 294 ms, sys: 749 ms, total: 1.04 s\n",
      "Wall time: 1.73 s\n"
     ]
    }
   ],
   "source": [
    "from sklearn.model_selection import train_test_split\n",
    "from sklearn.preprocessing import StandardScaler\n",
    "\n",
    "X_train_full, X_test, y_train_full, y_test = train_test_split(X_reshaped, y, stratify=y, test_size=0.05)\n",
    "X_train, X_valid, y_train, y_valid = train_test_split(X_train_full, y_train_full, stratify=y_train_full, test_size=0.05)\n",
    "\n",
    "scaler = StandardScaler()\n",
    "%time X_train = scaler.fit_transform(X_train)    ## fit it only on train data\n",
    "%time X_valid = scaler.transform(X_valid)\n",
    "%time X_test = scaler.transform(X_test)"
   ]
  },
  {
   "cell_type": "markdown",
   "metadata": {},
   "source": [
    "### Create model"
   ]
  },
  {
   "cell_type": "code",
   "execution_count": 18,
   "metadata": {},
   "outputs": [],
   "source": [
    "model = keras.models.Sequential()\n",
    "model.add(keras.layers.Dense(300, activation=\"relu\"))\n",
    "model.add(keras.layers.Dense(100, activation=\"relu\"))\n",
    "model.add(keras.layers.Dense(n_classes, activation=\"softmax\"))"
   ]
  },
  {
   "cell_type": "code",
   "execution_count": 19,
   "metadata": {},
   "outputs": [],
   "source": [
    "# model.summary()"
   ]
  },
  {
   "cell_type": "markdown",
   "metadata": {},
   "source": [
    "### Compile Model"
   ]
  },
  {
   "cell_type": "code",
   "execution_count": 20,
   "metadata": {},
   "outputs": [],
   "source": [
    "model.compile(loss=\"sparse_categorical_crossentropy\", optimizer=\"sgd\", metrics=[\"accuracy\"])"
   ]
  },
  {
   "cell_type": "markdown",
   "metadata": {},
   "source": [
    "### Fit Model"
   ]
  },
  {
   "cell_type": "code",
   "execution_count": 21,
   "metadata": {},
   "outputs": [
    {
     "name": "stdout",
     "output_type": "stream",
     "text": [
      "Epoch 1/30\n",
      "36161/36161 [==============================] - 35s 961us/step - loss: 1.3173 - accuracy: 0.4960 - val_loss: 1.1422 - val_accuracy: 0.5663\n",
      "Epoch 2/30\n",
      "36161/36161 [==============================] - 34s 946us/step - loss: 1.0773 - accuracy: 0.5898 - val_loss: 1.0345 - val_accuracy: 0.6068\n",
      "Epoch 3/30\n",
      "36161/36161 [==============================] - 34s 931us/step - loss: 0.9881 - accuracy: 0.6243 - val_loss: 0.9717 - val_accuracy: 0.6334\n",
      "Epoch 4/30\n",
      "36161/36161 [==============================] - 34s 946us/step - loss: 0.9324 - accuracy: 0.6457 - val_loss: 0.9357 - val_accuracy: 0.6466\n",
      "Epoch 5/30\n",
      "36161/36161 [==============================] - 34s 948us/step - loss: 0.8934 - accuracy: 0.6605 - val_loss: 0.9070 - val_accuracy: 0.6571\n",
      "Epoch 6/30\n",
      "36161/36161 [==============================] - 34s 951us/step - loss: 0.8640 - accuracy: 0.6716 - val_loss: 0.8853 - val_accuracy: 0.6619\n",
      "Epoch 7/30\n",
      "36161/36161 [==============================] - 34s 952us/step - loss: 0.8408 - accuracy: 0.6802 - val_loss: 0.8640 - val_accuracy: 0.6713\n",
      "Epoch 8/30\n",
      "36161/36161 [==============================] - 36s 983us/step - loss: 0.8210 - accuracy: 0.6874 - val_loss: 0.8503 - val_accuracy: 0.6761\n",
      "Epoch 9/30\n",
      "36161/36161 [==============================] - 33s 919us/step - loss: 0.8043 - accuracy: 0.6938 - val_loss: 0.8373 - val_accuracy: 0.6831\n",
      "Epoch 10/30\n",
      "36161/36161 [==============================] - 33s 924us/step - loss: 0.7895 - accuracy: 0.6992 - val_loss: 0.8264 - val_accuracy: 0.6870\n",
      "Epoch 11/30\n",
      "36161/36161 [==============================] - 34s 930us/step - loss: 0.7767 - accuracy: 0.7042 - val_loss: 0.8139 - val_accuracy: 0.6919\n",
      "Epoch 12/30\n",
      "36161/36161 [==============================] - 35s 958us/step - loss: 0.7652 - accuracy: 0.7083 - val_loss: 0.8098 - val_accuracy: 0.6944\n",
      "Epoch 13/30\n",
      "36161/36161 [==============================] - 35s 956us/step - loss: 0.7552 - accuracy: 0.7122 - val_loss: 0.8000 - val_accuracy: 0.6966\n",
      "Epoch 14/30\n",
      "36161/36161 [==============================] - 36s 994us/step - loss: 0.7463 - accuracy: 0.7156 - val_loss: 0.7965 - val_accuracy: 0.6978\n",
      "Epoch 15/30\n",
      "36161/36161 [==============================] - 35s 971us/step - loss: 0.7376 - accuracy: 0.7188 - val_loss: 0.7867 - val_accuracy: 0.7031\n",
      "Epoch 16/30\n",
      "36161/36161 [==============================] - 35s 969us/step - loss: 0.7297 - accuracy: 0.7217 - val_loss: 0.7810 - val_accuracy: 0.7054\n",
      "Epoch 17/30\n",
      "36161/36161 [==============================] - 34s 942us/step - loss: 0.7230 - accuracy: 0.7245 - val_loss: 0.7849 - val_accuracy: 0.7035\n",
      "Epoch 18/30\n",
      "36161/36161 [==============================] - 34s 939us/step - loss: 0.7169 - accuracy: 0.7266 - val_loss: 0.7748 - val_accuracy: 0.7072\n",
      "Epoch 19/30\n",
      "36161/36161 [==============================] - 36s 983us/step - loss: 0.7109 - accuracy: 0.7294 - val_loss: 0.7728 - val_accuracy: 0.7098\n",
      "Epoch 20/30\n",
      "36161/36161 [==============================] - 34s 930us/step - loss: 0.7056 - accuracy: 0.7310 - val_loss: 0.7704 - val_accuracy: 0.7106\n",
      "Epoch 21/30\n",
      "36161/36161 [==============================] - 35s 964us/step - loss: 0.7006 - accuracy: 0.7328 - val_loss: 0.7606 - val_accuracy: 0.7130\n",
      "Epoch 22/30\n",
      "36161/36161 [==============================] - 35s 979us/step - loss: 0.6954 - accuracy: 0.7351 - val_loss: 0.7636 - val_accuracy: 0.7126\n",
      "Epoch 23/30\n",
      "36161/36161 [==============================] - 35s 956us/step - loss: 0.6908 - accuracy: 0.7367 - val_loss: 0.7554 - val_accuracy: 0.7149\n",
      "Epoch 24/30\n",
      "36161/36161 [==============================] - 36s 982us/step - loss: 0.6869 - accuracy: 0.7381 - val_loss: 0.7602 - val_accuracy: 0.7118\n",
      "Epoch 25/30\n",
      "36161/36161 [==============================] - 37s 1ms/step - loss: 0.6831 - accuracy: 0.7393 - val_loss: 0.7530 - val_accuracy: 0.7175\n",
      "Epoch 26/30\n",
      "36161/36161 [==============================] - 35s 957us/step - loss: 0.6790 - accuracy: 0.7409 - val_loss: 0.7484 - val_accuracy: 0.7171\n",
      "Epoch 27/30\n",
      "36161/36161 [==============================] - 36s 1ms/step - loss: 0.6750 - accuracy: 0.7426 - val_loss: 0.7457 - val_accuracy: 0.7192\n",
      "Epoch 28/30\n",
      "36161/36161 [==============================] - 36s 995us/step - loss: 0.6717 - accuracy: 0.7438 - val_loss: 0.7494 - val_accuracy: 0.7141\n",
      "Epoch 29/30\n",
      "36161/36161 [==============================] - 36s 994us/step - loss: 0.6686 - accuracy: 0.7444 - val_loss: 0.7489 - val_accuracy: 0.7162\n",
      "Epoch 30/30\n",
      "36161/36161 [==============================] - 35s 980us/step - loss: 0.6655 - accuracy: 0.7461 - val_loss: 0.7426 - val_accuracy: 0.7191\n",
      "CPU times: user 39min 9s, sys: 6min 3s, total: 45min 12s\n",
      "Wall time: 17min 26s\n"
     ]
    }
   ],
   "source": [
    "%time history = model.fit(X_train, y_train, epochs=30, validation_data=(X_valid, y_valid))"
   ]
  },
  {
   "cell_type": "markdown",
   "metadata": {},
   "source": [
    "### Plot History"
   ]
  },
  {
   "cell_type": "code",
   "execution_count": 24,
   "metadata": {},
   "outputs": [
    {
     "data": {
      "image/png": "[encoded data removed]",
      "text/plain": [
       "<Figure size 576x360 with 1 Axes>"
      ]
     },
     "metadata": {
      "needs_background": "light"
     },
     "output_type": "display_data"
    }
   ],
   "source": [
    "import pandas as pd\n",
    "import matplotlib.pyplot as plt\n",
    "\n",
    "pd.DataFrame(history.history).plot(figsize=(8, 5))\n",
    "plt.grid(True)\n",
    "plt.gca().set_ylim(0, 1)\n",
    "plt.show()"
   ]
  },
  {
   "cell_type": "markdown",
   "metadata": {},
   "source": [
    "### Evaluate Model"
   ]
  },
  {
   "cell_type": "code",
   "execution_count": 23,
   "metadata": {},
   "outputs": [
    {
     "name": "stdout",
     "output_type": "stream",
     "text": [
      "2004/2004 [==============================] - 1s 558us/step - loss: 0.7434 - accuracy: 0.7192\n"
     ]
    },
    {
     "data": {
      "text/plain": [
       "[0.7434455156326294, 0.7191969752311707]"
      ]
     },
     "execution_count": 23,
     "metadata": {},
     "output_type": "execute_result"
    }
   ],
   "source": [
    "model.evaluate(X_test, y_test)"
   ]
  },
  {
   "cell_type": "code",
   "execution_count": 25,
   "metadata": {},
   "outputs": [
    {
     "name": "stdout",
     "output_type": "stream",
     "text": [
      "WARNING:tensorflow:From /Users/tomaspetricek/opt/anaconda3/envs/Speech_Emotion_Recognition/lib/python3.7/site-packages/tensorflow/python/training/tracking/tracking.py:111: Model.state_updates (from tensorflow.python.keras.engine.training) is deprecated and will be removed in a future version.\n",
      "Instructions for updating:\n",
      "This property should not be used in TensorFlow 2.0, as updates are applied automatically.\n",
      "WARNING:tensorflow:From /Users/tomaspetricek/opt/anaconda3/envs/Speech_Emotion_Recognition/lib/python3.7/site-packages/tensorflow/python/training/tracking/tracking.py:111: Layer.updates (from tensorflow.python.keras.engine.base_layer) is deprecated and will be removed in a future version.\n",
      "Instructions for updating:\n",
      "This property should not be used in TensorFlow 2.0, as updates are applied automatically.\n",
      "INFO:tensorflow:Assets written to: models/tensorflow_keras/classifier--ravdess_savee_tess_emovo--300_relu-100_relu-10_softmax--scc_sgd_accuracy--30/assets\n"
     ]
    }
   ],
   "source": [
    "model.save('models/tensorflow_keras/classifier--ravdess_savee_tess_emovo--300_relu-100_relu-10_softmax--scc_sgd_accuracy--30')"
   ]
  },
  {
   "cell_type": "code",
   "execution_count": null,
   "metadata": {},
   "outputs": [],
   "source": []
  }
 ],
 "metadata": {
  "kernelspec": {
   "display_name": "Python 3",
   "language": "python",
   "name": "python3"
  },
  "language_info": {
   "codemirror_mode": {
    "name": "ipython",
    "version": 3
   },
   "file_extension": ".py",
   "mimetype": "text/x-python",
   "name": "python",
   "nbconvert_exporter": "python",
   "pygments_lexer": "ipython3",
   "version": "3.7.7"
  }
 },
 "nbformat": 4,
 "nbformat_minor": 4
}
