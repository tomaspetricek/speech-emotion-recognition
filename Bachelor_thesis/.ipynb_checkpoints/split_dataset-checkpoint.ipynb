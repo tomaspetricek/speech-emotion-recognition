{
 "cells": [
  {
   "cell_type": "code",
   "execution_count": 1,
   "metadata": {},
   "outputs": [],
   "source": [
    "import tensorflow as tf\n",
    "from tensorflow import keras\n",
    "import numpy as np\n",
    "\n",
    "from config import DATASET_PATH\n",
    "from datasets import (Dataset, RAVDESSLabel, TESSLabel, \n",
    "                     EMOVOLabel, SAVEELabel, MFCCData, WAVData,\n",
    "                     RAVDESSUnifiedLabel, TESSUnifiedLabel, SAVEEUnifiedLabel,\n",
    "                     EMOVOUnifiedLabel)\n",
    "\n",
    "from tools import add_margin, IndexPicker"
   ]
  },
  {
   "cell_type": "markdown",
   "metadata": {},
   "source": [
    "### Load Datasets"
   ]
  },
  {
   "cell_type": "code",
   "execution_count": 2,
   "metadata": {},
   "outputs": [],
   "source": [
    "ravdess_path = DATASET_PATH.format(language=\"english\", name=\"RAVDESS\", form=\"mfcc\")\n",
    "\n",
    "ravdess_mfcc_unified = Dataset(ravdess_path, MFCCData(), RAVDESSUnifiedLabel())"
   ]
  },
  {
   "cell_type": "code",
   "execution_count": 3,
   "metadata": {},
   "outputs": [],
   "source": [
    "tess_path = DATASET_PATH.format(language=\"english\", name=\"TESS\", form=\"mfcc\")\n",
    "\n",
    "tess_mfcc_unified = Dataset(tess_path, MFCCData(), TESSUnifiedLabel())"
   ]
  },
  {
   "cell_type": "code",
   "execution_count": 4,
   "metadata": {},
   "outputs": [],
   "source": [
    "savee_path = DATASET_PATH.format(language=\"english\", name=\"SAVEE\", form=\"mfcc\")\n",
    "\n",
    "savee_mfcc_unified = Dataset(savee_path, MFCCData(), SAVEEUnifiedLabel())"
   ]
  },
  {
   "cell_type": "code",
   "execution_count": 5,
   "metadata": {},
   "outputs": [],
   "source": [
    "emovo_path = DATASET_PATH.format(language=\"italian\", name=\"EMOVO\", form=\"mfcc\")\n",
    "\n",
    "emovo_mfcc_unified = Dataset(emovo_path, MFCCData(), EMOVOUnifiedLabel())"
   ]
  },
  {
   "cell_type": "markdown",
   "metadata": {},
   "source": [
    "### Combine Datasets"
   ]
  },
  {
   "cell_type": "code",
   "execution_count": 6,
   "metadata": {},
   "outputs": [],
   "source": [
    "ravdess_mfcc_unified.combine(savee_mfcc_unified, tess_mfcc_unified, emovo_mfcc_unified)"
   ]
  },
  {
   "cell_type": "code",
   "execution_count": 7,
   "metadata": {},
   "outputs": [],
   "source": [
    "dataset = ravdess_mfcc_unified"
   ]
  },
  {
   "cell_type": "code",
   "execution_count": 8,
   "metadata": {},
   "outputs": [],
   "source": [
    "samples = dataset.samples"
   ]
  },
  {
   "cell_type": "code",
   "execution_count": 9,
   "metadata": {},
   "outputs": [],
   "source": [
    "X = np.array(list(samples['coefficients']))\n",
    "\n",
    "y = np.array(list(samples['emotion']))"
   ]
  },
  {
   "cell_type": "code",
   "execution_count": 10,
   "metadata": {},
   "outputs": [],
   "source": [
    "n_classes = len(np.unique(y))"
   ]
  },
  {
   "cell_type": "code",
   "execution_count": 11,
   "metadata": {},
   "outputs": [
    {
     "data": {
      "text/plain": [
       "(1282163,)"
      ]
     },
     "execution_count": 11,
     "metadata": {},
     "output_type": "execute_result"
    }
   ],
   "source": [
    "y.shape"
   ]
  },
  {
   "cell_type": "code",
   "execution_count": 12,
   "metadata": {},
   "outputs": [
    {
     "data": {
      "text/plain": [
       "(1282163, 39)"
      ]
     },
     "execution_count": 12,
     "metadata": {},
     "output_type": "execute_result"
    }
   ],
   "source": [
    "X.shape"
   ]
  },
  {
   "cell_type": "markdown",
   "metadata": {},
   "source": [
    "### Add Margin"
   ]
  },
  {
   "cell_type": "code",
   "execution_count": 13,
   "metadata": {},
   "outputs": [
    {
     "name": "stdout",
     "output_type": "stream",
     "text": [
      "CPU times: user 12.2 s, sys: 4.3 s, total: 16.5 s\n",
      "Wall time: 16.7 s\n"
     ]
    }
   ],
   "source": [
    "index_picker = IndexPicker(10, 10)\n",
    "%time X_margined = np.array(add_margin(X, index_picker))"
   ]
  },
  {
   "cell_type": "code",
   "execution_count": 14,
   "metadata": {},
   "outputs": [
    {
     "data": {
      "text/plain": [
       "(1282163, 21, 39)"
      ]
     },
     "execution_count": 14,
     "metadata": {},
     "output_type": "execute_result"
    }
   ],
   "source": [
    "X_margined.shape"
   ]
  },
  {
   "cell_type": "markdown",
   "metadata": {},
   "source": [
    "### Reshape"
   ]
  },
  {
   "cell_type": "code",
   "execution_count": 15,
   "metadata": {},
   "outputs": [
    {
     "name": "stdout",
     "output_type": "stream",
     "text": [
      "CPU times: user 2.62 s, sys: 1.65 s, total: 4.27 s\n",
      "Wall time: 4.3 s\n"
     ]
    }
   ],
   "source": [
    "n_samples,window_length,n_features = X_margined.shape\n",
    "%time X_reshaped = np.array(np.reshape(X_margined, (n_samples, -1)))"
   ]
  },
  {
   "cell_type": "code",
   "execution_count": 16,
   "metadata": {},
   "outputs": [
    {
     "data": {
      "text/plain": [
       "(1282163, 819)"
      ]
     },
     "execution_count": 16,
     "metadata": {},
     "output_type": "execute_result"
    }
   ],
   "source": [
    "X_reshaped.shape"
   ]
  },
  {
   "cell_type": "markdown",
   "metadata": {},
   "source": [
    "## Modeling"
   ]
  },
  {
   "cell_type": "code",
   "execution_count": 17,
   "metadata": {},
   "outputs": [],
   "source": [
    "from sklearn.base import TransformerMixin,BaseEstimator\n",
    "\n",
    "\n",
    "class Scaler(BaseEstimator,TransformerMixin):\n",
    "\n",
    "    def __init__(self, scaler):\n",
    "        self.scaler = scaler\n",
    "\n",
    "    def fit(self,X,y=None):\n",
    "        self.scaler.fit(X.reshape(-1, 1))\n",
    "        return self\n",
    "\n",
    "    def transform(self,X):\n",
    "        return self.scaler.transform(X.reshape(-1, 1)).reshape(X.shape)"
   ]
  },
  {
   "cell_type": "markdown",
   "metadata": {},
   "source": [
    "### Prepere for model fitting"
   ]
  },
  {
   "cell_type": "code",
   "execution_count": 18,
   "metadata": {},
   "outputs": [
    {
     "name": "stdout",
     "output_type": "stream",
     "text": [
      "CPU times: user 9.59 s, sys: 10.3 s, total: 19.9 s\n",
      "Wall time: 21 s\n",
      "CPU times: user 228 ms, sys: 134 ms, total: 362 ms\n",
      "Wall time: 359 ms\n",
      "CPU times: user 271 ms, sys: 736 ms, total: 1.01 s\n",
      "Wall time: 1.49 s\n"
     ]
    }
   ],
   "source": [
    "from sklearn.model_selection import train_test_split\n",
    "from sklearn.preprocessing import MinMaxScaler, StandardScaler\n",
    "\n",
    "X_train_full, X_test, y_train_full, y_test = train_test_split(X_reshaped, y, stratify=y, test_size=0.05)\n",
    "X_train, X_valid, y_train, y_valid = train_test_split(X_train_full, y_train_full, stratify=y_train_full, test_size=0.05)\n",
    "\n",
    "# scaler = Scaler(MinMaxScaler())\n",
    "# %time X_train = scaler.fit_transform(X_train)    ## fit it only on train data\n",
    "# %time X_valid = scaler.transform(X_valid)\n",
    "# %time X_test = scaler.transform(X_test)"
   ]
  },
  {
   "cell_type": "markdown",
   "metadata": {},
   "source": [
    "### Create model"
   ]
  },
  {
   "cell_type": "code",
   "execution_count": 19,
   "metadata": {},
   "outputs": [],
   "source": [
    "model = keras.models.Sequential()\n",
    "model.add(keras.layers.Dense(300, activation=\"relu\"))\n",
    "model.add(keras.layers.Dense(100, activation=\"relu\"))\n",
    "model.add(keras.layers.Dense(n_classes, activation=\"softmax\"))"
   ]
  },
  {
   "cell_type": "code",
   "execution_count": 20,
   "metadata": {},
   "outputs": [],
   "source": [
    "# model.summary()"
   ]
  },
  {
   "cell_type": "markdown",
   "metadata": {},
   "source": [
    "### Compile Model"
   ]
  },
  {
   "cell_type": "code",
   "execution_count": 21,
   "metadata": {},
   "outputs": [],
   "source": [
    "model.compile(loss=\"sparse_categorical_crossentropy\", optimizer=\"sgd\", metrics=[\"accuracy\"])"
   ]
  },
  {
   "cell_type": "markdown",
   "metadata": {},
   "source": [
    "### Fit Model"
   ]
  },
  {
   "cell_type": "code",
   "execution_count": 22,
   "metadata": {},
   "outputs": [
    {
     "name": "stdout",
     "output_type": "stream",
     "text": [
      "Epoch 1/30\n",
      "36161/36161 [==============================] - 34s 935us/step - loss: 1.7915 - accuracy: 0.2726 - val_loss: 1.6966 - val_accuracy: 0.3274\n",
      "Epoch 2/30\n",
      "36161/36161 [==============================] - 35s 962us/step - loss: 1.6390 - accuracy: 0.3543 - val_loss: 1.5613 - val_accuracy: 0.3965\n",
      "Epoch 3/30\n",
      "36161/36161 [==============================] - 35s 957us/step - loss: 1.5295 - accuracy: 0.4062 - val_loss: 1.4863 - val_accuracy: 0.4261\n",
      "Epoch 4/30\n",
      "36161/36161 [==============================] - 34s 949us/step - loss: 1.4567 - accuracy: 0.4365 - val_loss: 1.4231 - val_accuracy: 0.4439\n",
      "Epoch 5/30\n",
      "36161/36161 [==============================] - 35s 960us/step - loss: 1.4007 - accuracy: 0.4593 - val_loss: 1.3630 - val_accuracy: 0.4711\n",
      "Epoch 6/30\n",
      "36161/36161 [==============================] - 34s 946us/step - loss: 1.3579 - accuracy: 0.4769 - val_loss: 1.3499 - val_accuracy: 0.4725\n",
      "Epoch 7/30\n",
      "36161/36161 [==============================] - 34s 939us/step - loss: 1.3226 - accuracy: 0.4914 - val_loss: 1.2836 - val_accuracy: 0.5100\n",
      "Epoch 8/30\n",
      "36161/36161 [==============================] - 33s 922us/step - loss: 1.2931 - accuracy: 0.5033 - val_loss: 1.2925 - val_accuracy: 0.5045\n",
      "Epoch 9/30\n",
      "36161/36161 [==============================] - 34s 943us/step - loss: 1.2667 - accuracy: 0.5146 - val_loss: 1.2490 - val_accuracy: 0.5267\n",
      "Epoch 10/30\n",
      "36161/36161 [==============================] - 32s 888us/step - loss: 1.2432 - accuracy: 0.5243 - val_loss: 1.2404 - val_accuracy: 0.5232\n",
      "Epoch 11/30\n",
      "36161/36161 [==============================] - 34s 935us/step - loss: 1.2225 - accuracy: 0.5323 - val_loss: 1.2176 - val_accuracy: 0.5349\n",
      "Epoch 12/30\n",
      "36161/36161 [==============================] - 34s 928us/step - loss: 1.2039 - accuracy: 0.5399 - val_loss: 1.1876 - val_accuracy: 0.5469\n",
      "Epoch 13/30\n",
      "36161/36161 [==============================] - 35s 960us/step - loss: 1.1870 - accuracy: 0.5463 - val_loss: 1.1728 - val_accuracy: 0.5551\n",
      "Epoch 14/30\n",
      "36161/36161 [==============================] - 34s 931us/step - loss: 1.1713 - accuracy: 0.5526 - val_loss: 1.1639 - val_accuracy: 0.5592\n",
      "Epoch 15/30\n",
      "36161/36161 [==============================] - 34s 932us/step - loss: 1.1581 - accuracy: 0.5578 - val_loss: 1.1545 - val_accuracy: 0.5627\n",
      "Epoch 16/30\n",
      "36161/36161 [==============================] - 34s 950us/step - loss: 1.1444 - accuracy: 0.5636 - val_loss: 1.1565 - val_accuracy: 0.5612\n",
      "Epoch 17/30\n",
      "36161/36161 [==============================] - 35s 976us/step - loss: 1.1337 - accuracy: 0.5672 - val_loss: 1.1310 - val_accuracy: 0.5726\n",
      "Epoch 18/30\n",
      "36161/36161 [==============================] - 34s 932us/step - loss: 1.1222 - accuracy: 0.5726 - val_loss: 1.1238 - val_accuracy: 0.5713\n",
      "Epoch 19/30\n",
      "36161/36161 [==============================] - 34s 937us/step - loss: 1.1127 - accuracy: 0.5757 - val_loss: 1.1089 - val_accuracy: 0.5801\n",
      "Epoch 20/30\n",
      "36161/36161 [==============================] - 34s 929us/step - loss: 1.1031 - accuracy: 0.5795 - val_loss: 1.0877 - val_accuracy: 0.5838\n",
      "Epoch 21/30\n",
      "36161/36161 [==============================] - 34s 932us/step - loss: 1.0947 - accuracy: 0.5830 - val_loss: 1.0784 - val_accuracy: 0.5877\n",
      "Epoch 22/30\n",
      "36161/36161 [==============================] - 36s 990us/step - loss: 1.0870 - accuracy: 0.5859 - val_loss: 1.0871 - val_accuracy: 0.5868\n",
      "Epoch 23/30\n",
      "36161/36161 [==============================] - 34s 934us/step - loss: 1.0793 - accuracy: 0.5891 - val_loss: 1.0772 - val_accuracy: 0.5905\n",
      "Epoch 24/30\n",
      "36161/36161 [==============================] - 34s 940us/step - loss: 1.0716 - accuracy: 0.5921 - val_loss: 1.0980 - val_accuracy: 0.5840\n",
      "Epoch 25/30\n",
      "36161/36161 [==============================] - 34s 933us/step - loss: 1.0649 - accuracy: 0.5948 - val_loss: 1.0579 - val_accuracy: 0.5984\n",
      "Epoch 26/30\n",
      "36161/36161 [==============================] - 34s 936us/step - loss: 1.0590 - accuracy: 0.5970 - val_loss: 1.0576 - val_accuracy: 0.5986\n",
      "Epoch 27/30\n",
      "36161/36161 [==============================] - 34s 929us/step - loss: 1.0528 - accuracy: 0.5996 - val_loss: 1.0666 - val_accuracy: 0.5911\n",
      "Epoch 28/30\n",
      "36161/36161 [==============================] - 34s 930us/step - loss: 1.0469 - accuracy: 0.6016 - val_loss: 1.0649 - val_accuracy: 0.5978\n",
      "Epoch 29/30\n",
      "36161/36161 [==============================] - 34s 938us/step - loss: 1.0411 - accuracy: 0.6041 - val_loss: 1.0505 - val_accuracy: 0.6033\n",
      "Epoch 30/30\n",
      "36161/36161 [==============================] - 34s 937us/step - loss: 1.0363 - accuracy: 0.6061 - val_loss: 1.0672 - val_accuracy: 0.5929\n",
      "CPU times: user 38min 26s, sys: 6min 2s, total: 44min 29s\n",
      "Wall time: 17min 2s\n"
     ]
    }
   ],
   "source": [
    "%time history = model.fit(X_train, y_train, epochs=30, validation_data=(X_valid, y_valid))"
   ]
  },
  {
   "cell_type": "markdown",
   "metadata": {},
   "source": [
    "### Plot History"
   ]
  },
  {
   "cell_type": "code",
   "execution_count": 27,
   "metadata": {},
   "outputs": [
    {
     "data": {
      "image/png": "[encoded data removed]",
      "text/plain": [
       "<Figure size 576x360 with 1 Axes>"
      ]
     },
     "metadata": {
      "needs_background": "light"
     },
     "output_type": "display_data"
    }
   ],
   "source": [
    "import pandas as pd\n",
    "import matplotlib.pyplot as plt\n",
    "\n",
    "pd.DataFrame(history.history).plot(figsize=(8, 5))\n",
    "plt.grid(True)\n",
    "#plt.gca().set_ylim(0, 1)\n",
    "plt.show()"
   ]
  },
  {
   "cell_type": "markdown",
   "metadata": {},
   "source": [
    "### Evaluate Model"
   ]
  },
  {
   "cell_type": "code",
   "execution_count": 24,
   "metadata": {},
   "outputs": [
    {
     "name": "stdout",
     "output_type": "stream",
     "text": [
      "2004/2004 [==============================] - 1s 551us/step - loss: 1.0560 - accuracy: 0.5961\n"
     ]
    },
    {
     "data": {
      "text/plain": [
       "[1.0559903383255005, 0.596062958240509]"
      ]
     },
     "execution_count": 24,
     "metadata": {},
     "output_type": "execute_result"
    }
   ],
   "source": [
    "model.evaluate(X_test, y_test)"
   ]
  },
  {
   "cell_type": "code",
   "execution_count": 28,
   "metadata": {},
   "outputs": [
    {
     "name": "stdout",
     "output_type": "stream",
     "text": [
      "WARNING:tensorflow:From /Users/tomaspetricek/opt/anaconda3/envs/Speech_Emotion_Recognition/lib/python3.7/site-packages/tensorflow/python/training/tracking/tracking.py:111: Model.state_updates (from tensorflow.python.keras.engine.training) is deprecated and will be removed in a future version.\n",
      "Instructions for updating:\n",
      "This property should not be used in TensorFlow 2.0, as updates are applied automatically.\n",
      "WARNING:tensorflow:From /Users/tomaspetricek/opt/anaconda3/envs/Speech_Emotion_Recognition/lib/python3.7/site-packages/tensorflow/python/training/tracking/tracking.py:111: Layer.updates (from tensorflow.python.keras.engine.base_layer) is deprecated and will be removed in a future version.\n",
      "Instructions for updating:\n",
      "This property should not be used in TensorFlow 2.0, as updates are applied automatically.\n",
      "INFO:tensorflow:Assets written to: models/tensorflow_keras/ravdess_savee_tess_emovo--10_10--MinMaxScaler--300_relu-100_relu-10_softmax--scc_sgd_accuracy--30/assets\n"
     ]
    }
   ],
   "source": [
    "# model.save('models/tensorflow_keras/ravdess_savee_tess_emovo--10_10--MinMaxScaler--300_relu-100_relu-10_softmax--scc_sgd_accuracy--30')"
   ]
  },
  {
   "cell_type": "code",
   "execution_count": null,
   "metadata": {},
   "outputs": [],
   "source": []
  }
 ],
 "metadata": {
  "kernelspec": {
   "display_name": "Python 3",
   "language": "python",
   "name": "python3"
  },
  "language_info": {
   "codemirror_mode": {
    "name": "ipython",
    "version": 3
   },
   "file_extension": ".py",
   "mimetype": "text/x-python",
   "name": "python",
   "nbconvert_exporter": "python",
   "pygments_lexer": "ipython3",
   "version": "3.7.7"
  }
 },
 "nbformat": 4,
 "nbformat_minor": 4
}
