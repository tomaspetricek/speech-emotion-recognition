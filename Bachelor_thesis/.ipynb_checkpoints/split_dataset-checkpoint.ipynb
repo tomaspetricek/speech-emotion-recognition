{
 "cells": [
  {
   "cell_type": "code",
   "execution_count": 1,
   "metadata": {},
   "outputs": [],
   "source": [
    "import tensorflow as tf\n",
    "from tensorflow import keras\n",
    "import numpy as np\n",
    "\n",
    "from config import DATASET_PATH\n",
    "from datasets import (Dataset, RAVDESSLabel, TESSLabel, \n",
    "                     EMOVOLabel, SAVEELabel, MFCCData, WAVData,\n",
    "                     RAVDESSUnifiedLabel, TESSUnifiedLabel, SAVEEUnifiedLabel,\n",
    "                     EMOVOUnifiedLabel)\n",
    "\n",
    "from tools import add_margin, IndexPicker"
   ]
  },
  {
   "cell_type": "markdown",
   "metadata": {},
   "source": [
    "### Load Datasets"
   ]
  },
  {
   "cell_type": "code",
   "execution_count": 2,
   "metadata": {},
   "outputs": [],
   "source": [
    "ravdess_path = DATASET_PATH.format(language=\"english\", name=\"RAVDESS\", form=\"mfcc\")\n",
    "\n",
    "ravdess_mfcc_unified = Dataset(ravdess_path, MFCCData(), RAVDESSUnifiedLabel())"
   ]
  },
  {
   "cell_type": "code",
   "execution_count": 3,
   "metadata": {},
   "outputs": [],
   "source": [
    "tess_path = DATASET_PATH.format(language=\"english\", name=\"TESS\", form=\"mfcc\")\n",
    "\n",
    "tess_mfcc_unified = Dataset(tess_path, MFCCData(), TESSUnifiedLabel())"
   ]
  },
  {
   "cell_type": "code",
   "execution_count": 4,
   "metadata": {},
   "outputs": [],
   "source": [
    "savee_path = DATASET_PATH.format(language=\"english\", name=\"SAVEE\", form=\"mfcc\")\n",
    "\n",
    "savee_mfcc_unified = Dataset(savee_path, MFCCData(), SAVEEUnifiedLabel())"
   ]
  },
  {
   "cell_type": "code",
   "execution_count": 5,
   "metadata": {},
   "outputs": [],
   "source": [
    "emovo_path = DATASET_PATH.format(language=\"italian\", name=\"EMOVO\", form=\"mfcc\")\n",
    "\n",
    "emovo_mfcc_unified = Dataset(emovo_path, MFCCData(), EMOVOUnifiedLabel())"
   ]
  },
  {
   "cell_type": "markdown",
   "metadata": {},
   "source": [
    "### Combine Datasets"
   ]
  },
  {
   "cell_type": "code",
   "execution_count": 6,
   "metadata": {},
   "outputs": [],
   "source": [
    "ravdess_mfcc_unified.combine(savee_mfcc_unified, tess_mfcc_unified, emovo_mfcc_unified)"
   ]
  },
  {
   "cell_type": "code",
   "execution_count": 7,
   "metadata": {},
   "outputs": [],
   "source": [
    "dataset = ravdess_mfcc_unified"
   ]
  },
  {
   "cell_type": "code",
   "execution_count": 8,
   "metadata": {},
   "outputs": [],
   "source": [
    "samples = dataset.samples"
   ]
  },
  {
   "cell_type": "code",
   "execution_count": 9,
   "metadata": {},
   "outputs": [],
   "source": [
    "X = np.array(list(samples['coefficients']))\n",
    "\n",
    "y = np.array(list(samples['emotion']))"
   ]
  },
  {
   "cell_type": "code",
   "execution_count": 10,
   "metadata": {},
   "outputs": [],
   "source": [
    "n_classes = len(np.unique(y))"
   ]
  },
  {
   "cell_type": "code",
   "execution_count": 11,
   "metadata": {},
   "outputs": [
    {
     "data": {
      "text/plain": [
       "(1282163,)"
      ]
     },
     "execution_count": 11,
     "metadata": {},
     "output_type": "execute_result"
    }
   ],
   "source": [
    "y.shape"
   ]
  },
  {
   "cell_type": "code",
   "execution_count": 12,
   "metadata": {},
   "outputs": [
    {
     "data": {
      "text/plain": [
       "(1282163, 39)"
      ]
     },
     "execution_count": 12,
     "metadata": {},
     "output_type": "execute_result"
    }
   ],
   "source": [
    "X.shape"
   ]
  },
  {
   "cell_type": "markdown",
   "metadata": {},
   "source": [
    "### Add Margin"
   ]
  },
  {
   "cell_type": "code",
   "execution_count": 13,
   "metadata": {},
   "outputs": [
    {
     "name": "stdout",
     "output_type": "stream",
     "text": [
      "CPU times: user 11.4 s, sys: 4.11 s, total: 15.5 s\n",
      "Wall time: 15.6 s\n"
     ]
    }
   ],
   "source": [
    "index_picker = IndexPicker(10, 10)\n",
    "%time X_margined = np.array(add_margin(X, index_picker))"
   ]
  },
  {
   "cell_type": "code",
   "execution_count": 14,
   "metadata": {},
   "outputs": [
    {
     "data": {
      "text/plain": [
       "(1282163, 21, 39)"
      ]
     },
     "execution_count": 14,
     "metadata": {},
     "output_type": "execute_result"
    }
   ],
   "source": [
    "X_margined.shape"
   ]
  },
  {
   "cell_type": "markdown",
   "metadata": {},
   "source": [
    "### Reshape"
   ]
  },
  {
   "cell_type": "code",
   "execution_count": 15,
   "metadata": {},
   "outputs": [
    {
     "name": "stdout",
     "output_type": "stream",
     "text": [
      "CPU times: user 2.62 s, sys: 1.61 s, total: 4.22 s\n",
      "Wall time: 4.25 s\n"
     ]
    }
   ],
   "source": [
    "n_samples,window_length,n_features = X_margined.shape\n",
    "%time X_reshaped = np.array(np.reshape(X_margined, (n_samples, -1)))"
   ]
  },
  {
   "cell_type": "code",
   "execution_count": 16,
   "metadata": {},
   "outputs": [
    {
     "data": {
      "text/plain": [
       "(1282163, 819)"
      ]
     },
     "execution_count": 16,
     "metadata": {},
     "output_type": "execute_result"
    }
   ],
   "source": [
    "X_reshaped.shape"
   ]
  },
  {
   "cell_type": "markdown",
   "metadata": {},
   "source": [
    "## Modeling"
   ]
  },
  {
   "cell_type": "code",
   "execution_count": 17,
   "metadata": {},
   "outputs": [],
   "source": [
    "from sklearn.base import TransformerMixin,BaseEstimator\n",
    "\n",
    "\n",
    "class Scaler(BaseEstimator,TransformerMixin):\n",
    "\n",
    "    def __init__(self, scaler):\n",
    "        self.scaler = scaler\n",
    "\n",
    "    def fit(self,X,y=None):\n",
    "        self.scaler.fit(X.reshape(-1, 1))\n",
    "        return self\n",
    "\n",
    "    def transform(self,X):\n",
    "        return self.scaler.transform(X.reshape(-1, 1)).reshape(X.shape)"
   ]
  },
  {
   "cell_type": "markdown",
   "metadata": {},
   "source": [
    "### Prepere for model fitting"
   ]
  },
  {
   "cell_type": "code",
   "execution_count": 18,
   "metadata": {},
   "outputs": [
    {
     "name": "stdout",
     "output_type": "stream",
     "text": [
      "CPU times: user 15.3 s, sys: 15.3 s, total: 30.6 s\n",
      "Wall time: 30.9 s\n",
      "CPU times: user 229 ms, sys: 189 ms, total: 417 ms\n",
      "Wall time: 482 ms\n",
      "CPU times: user 292 ms, sys: 953 ms, total: 1.25 s\n",
      "Wall time: 1.95 s\n"
     ]
    }
   ],
   "source": [
    "from sklearn.model_selection import train_test_split\n",
    "from sklearn.preprocessing import MinMaxScaler, StandardScaler\n",
    "\n",
    "X_train_full, X_test, y_train_full, y_test = train_test_split(X_reshaped, y, stratify=y, test_size=0.05)\n",
    "X_train, X_valid, y_train, y_valid = train_test_split(X_train_full, y_train_full, stratify=y_train_full, test_size=0.05)\n",
    "\n",
    "# scaler = Scaler(StandardScaler())\n",
    "# %time X_train = scaler.fit_transform(X_train)    ## fit it only on train data\n",
    "# %time X_valid = scaler.transform(X_valid)\n",
    "# %time X_test = scaler.transform(X_test)"
   ]
  },
  {
   "cell_type": "markdown",
   "metadata": {},
   "source": [
    "### Create model"
   ]
  },
  {
   "cell_type": "code",
   "execution_count": 19,
   "metadata": {},
   "outputs": [],
   "source": [
    "model = keras.models.Sequential()\n",
    "model.add(keras.layers.Dense(300, activation=\"relu\"))\n",
    "model.add(keras.layers.Dense(100, activation=\"relu\"))\n",
    "model.add(keras.layers.Dense(n_classes, activation=\"softmax\"))"
   ]
  },
  {
   "cell_type": "code",
   "execution_count": 20,
   "metadata": {},
   "outputs": [],
   "source": [
    "# model.summary()"
   ]
  },
  {
   "cell_type": "markdown",
   "metadata": {},
   "source": [
    "### Compile Model"
   ]
  },
  {
   "cell_type": "code",
   "execution_count": 21,
   "metadata": {},
   "outputs": [],
   "source": [
    "model.compile(loss=\"sparse_categorical_crossentropy\", optimizer=\"sgd\", metrics=[\"accuracy\"])"
   ]
  },
  {
   "cell_type": "markdown",
   "metadata": {},
   "source": [
    "### Fit Model"
   ]
  },
  {
   "cell_type": "code",
   "execution_count": 22,
   "metadata": {},
   "outputs": [
    {
     "name": "stdout",
     "output_type": "stream",
     "text": [
      "Epoch 1/30\n",
      "36161/36161 [==============================] - 33s 926us/step - loss: 1.3961 - accuracy: 0.4624 - val_loss: 1.2382 - val_accuracy: 0.5261\n",
      "Epoch 2/30\n",
      "36161/36161 [==============================] - 33s 915us/step - loss: 1.1626 - accuracy: 0.5572 - val_loss: 1.1152 - val_accuracy: 0.5737\n",
      "Epoch 3/30\n",
      "36161/36161 [==============================] - 34s 938us/step - loss: 1.0813 - accuracy: 0.5892 - val_loss: 1.0598 - val_accuracy: 0.5975\n",
      "Epoch 4/30\n",
      "36161/36161 [==============================] - 35s 961us/step - loss: 1.0319 - accuracy: 0.6085 - val_loss: 1.0188 - val_accuracy: 0.6122\n",
      "Epoch 5/30\n",
      "36161/36161 [==============================] - 35s 965us/step - loss: 0.9970 - accuracy: 0.6216 - val_loss: 0.9921 - val_accuracy: 0.6228\n",
      "Epoch 6/30\n",
      "36161/36161 [==============================] - 34s 948us/step - loss: 0.9699 - accuracy: 0.6326 - val_loss: 0.9928 - val_accuracy: 0.6208\n",
      "Epoch 7/30\n",
      "36161/36161 [==============================] - 33s 914us/step - loss: 0.9482 - accuracy: 0.6407 - val_loss: 0.9588 - val_accuracy: 0.6357\n",
      "Epoch 8/30\n",
      "36161/36161 [==============================] - 33s 916us/step - loss: 0.9293 - accuracy: 0.6476 - val_loss: 0.9399 - val_accuracy: 0.6438\n",
      "Epoch 9/30\n",
      "36161/36161 [==============================] - 34s 934us/step - loss: 0.9137 - accuracy: 0.6537 - val_loss: 0.9201 - val_accuracy: 0.6510\n",
      "Epoch 10/30\n",
      "36161/36161 [==============================] - 34s 930us/step - loss: 0.8999 - accuracy: 0.6592 - val_loss: 0.9239 - val_accuracy: 0.6496\n",
      "Epoch 11/30\n",
      "36161/36161 [==============================] - 35s 966us/step - loss: 0.8879 - accuracy: 0.6641 - val_loss: 0.8998 - val_accuracy: 0.6582\n",
      "Epoch 12/30\n",
      "36161/36161 [==============================] - 34s 931us/step - loss: 0.8769 - accuracy: 0.6683 - val_loss: 0.9058 - val_accuracy: 0.6541\n",
      "Epoch 13/30\n",
      "36161/36161 [==============================] - 35s 973us/step - loss: 0.8677 - accuracy: 0.6719 - val_loss: 0.9076 - val_accuracy: 0.6558\n",
      "Epoch 14/30\n",
      "36161/36161 [==============================] - 33s 925us/step - loss: 0.8588 - accuracy: 0.6752 - val_loss: 0.8764 - val_accuracy: 0.6668\n",
      "Epoch 15/30\n",
      "36161/36161 [==============================] - 35s 955us/step - loss: 0.8512 - accuracy: 0.6782 - val_loss: 0.8890 - val_accuracy: 0.6624\n",
      "Epoch 16/30\n",
      "36161/36161 [==============================] - 33s 918us/step - loss: 0.8440 - accuracy: 0.6806 - val_loss: 0.8823 - val_accuracy: 0.6661\n",
      "Epoch 17/30\n",
      "36161/36161 [==============================] - 33s 925us/step - loss: 0.8370 - accuracy: 0.6834 - val_loss: 0.8581 - val_accuracy: 0.6745\n",
      "Epoch 18/30\n",
      "36161/36161 [==============================] - 34s 927us/step - loss: 0.8309 - accuracy: 0.6860 - val_loss: 0.8705 - val_accuracy: 0.6718\n",
      "Epoch 19/30\n",
      "36161/36161 [==============================] - 33s 923us/step - loss: 0.8258 - accuracy: 0.6877 - val_loss: 0.8790 - val_accuracy: 0.6689\n",
      "Epoch 20/30\n",
      "36161/36161 [==============================] - 33s 924us/step - loss: 0.8205 - accuracy: 0.6897 - val_loss: 0.8599 - val_accuracy: 0.6741\n",
      "Epoch 21/30\n",
      "36161/36161 [==============================] - 34s 928us/step - loss: 0.8160 - accuracy: 0.6912 - val_loss: 0.8474 - val_accuracy: 0.6776\n",
      "Epoch 22/30\n",
      "36161/36161 [==============================] - 34s 942us/step - loss: 0.8111 - accuracy: 0.6930 - val_loss: 0.8673 - val_accuracy: 0.6706\n",
      "Epoch 23/30\n",
      "36161/36161 [==============================] - 36s 989us/step - loss: 0.8072 - accuracy: 0.6945 - val_loss: 0.8468 - val_accuracy: 0.6811\n",
      "Epoch 24/30\n",
      "36161/36161 [==============================] - 36s 1ms/step - loss: 0.8032 - accuracy: 0.6963 - val_loss: 0.8532 - val_accuracy: 0.6776\n",
      "Epoch 25/30\n",
      "36161/36161 [==============================] - 36s 992us/step - loss: 0.7994 - accuracy: 0.6976 - val_loss: 0.8432 - val_accuracy: 0.6811\n",
      "Epoch 26/30\n",
      "36161/36161 [==============================] - 36s 983us/step - loss: 0.7959 - accuracy: 0.6991 - val_loss: 0.8593 - val_accuracy: 0.6750\n",
      "Epoch 27/30\n",
      "36161/36161 [==============================] - 34s 930us/step - loss: 0.7925 - accuracy: 0.7001 - val_loss: 0.8374 - val_accuracy: 0.6838\n",
      "Epoch 28/30\n",
      "36161/36161 [==============================] - 37s 1ms/step - loss: 0.7892 - accuracy: 0.7011 - val_loss: 0.8337 - val_accuracy: 0.6843\n",
      "Epoch 29/30\n",
      "36161/36161 [==============================] - 34s 939us/step - loss: 0.7860 - accuracy: 0.7027 - val_loss: 0.8285 - val_accuracy: 0.6858\n",
      "Epoch 30/30\n",
      "36161/36161 [==============================] - 36s 1ms/step - loss: 0.7828 - accuracy: 0.7038 - val_loss: 0.8372 - val_accuracy: 0.6835\n",
      "CPU times: user 39min 9s, sys: 6min 10s, total: 45min 20s\n",
      "Wall time: 17min 12s\n"
     ]
    }
   ],
   "source": [
    "%time history = model.fit(X_train, y_train, epochs=30, validation_data=(X_valid, y_valid))"
   ]
  },
  {
   "cell_type": "markdown",
   "metadata": {},
   "source": [
    "### Plot History"
   ]
  },
  {
   "cell_type": "code",
   "execution_count": 26,
   "metadata": {},
   "outputs": [
    {
     "data": {
      "image/png": "[encoded data removed]",
      "text/plain": [
       "<Figure size 576x360 with 1 Axes>"
      ]
     },
     "metadata": {
      "needs_background": "light"
     },
     "output_type": "display_data"
    }
   ],
   "source": [
    "import pandas as pd\n",
    "import matplotlib.pyplot as plt\n",
    "\n",
    "pd.DataFrame(history.history).plot(figsize=(8, 5))\n",
    "plt.grid(True)\n",
    "#plt.gca().set_ylim(0, 1)\n",
    "plt.show()"
   ]
  },
  {
   "cell_type": "markdown",
   "metadata": {},
   "source": [
    "### Evaluate Model"
   ]
  },
  {
   "cell_type": "code",
   "execution_count": 24,
   "metadata": {},
   "outputs": [
    {
     "name": "stdout",
     "output_type": "stream",
     "text": [
      "2004/2004 [==============================] - 1s 596us/step - loss: 0.8402 - accuracy: 0.6843\n"
     ]
    },
    {
     "data": {
      "text/plain": [
       "[0.8402407169342041, 0.6843345165252686]"
      ]
     },
     "execution_count": 24,
     "metadata": {},
     "output_type": "execute_result"
    }
   ],
   "source": [
    "model.evaluate(X_test, y_test)"
   ]
  },
  {
   "cell_type": "code",
   "execution_count": 25,
   "metadata": {},
   "outputs": [],
   "source": [
    "# model.save('models/tensorflow_keras/ravdess_savee_tess_emovo--10_10--StandardScaler--300_relu-100_relu-10_softmax--scc_sgd_accuracy--30')"
   ]
  },
  {
   "cell_type": "code",
   "execution_count": null,
   "metadata": {},
   "outputs": [],
   "source": []
  }
 ],
 "metadata": {
  "kernelspec": {
   "display_name": "Python 3",
   "language": "python",
   "name": "python3"
  },
  "language_info": {
   "codemirror_mode": {
    "name": "ipython",
    "version": 3
   },
   "file_extension": ".py",
   "mimetype": "text/x-python",
   "name": "python",
   "nbconvert_exporter": "python",
   "pygments_lexer": "ipython3",
   "version": "3.7.7"
  }
 },
 "nbformat": 4,
 "nbformat_minor": 4
}
