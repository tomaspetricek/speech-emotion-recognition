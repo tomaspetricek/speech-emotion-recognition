{
 "cells": [
  {
   "cell_type": "code",
   "execution_count": 1,
   "metadata": {},
   "outputs": [],
   "source": [
    "import os\n",
    "import numpy as np\n",
    "\n",
    "from config import DATASET_PATH\n",
    "from data import (Dataset, RAVDESSLabel, TESSLabel,\n",
    "                  EMOVOLabel, SAVEELabel, MFCCData, WAVData,\n",
    "                  RAVDESSUnifiedLabel, TESSUnifiedLabel, SAVEEUnifiedLabel,\n",
    "                  EMOVOUnifiedLabel, CallCentersUnifiedLabel,\n",
    "                  FOUR_EMOTIONS_CONVERSION_TABLE, THREE_EMOTIONS_CONVERSION_TABLE)\n",
    "\n",
    "from files import DatasetInfoFile, SetInfoFile\n",
    "\n",
    "import seaborn as sns\n",
    "import matplotlib.pyplot as plt\n",
    "import pandas as pd"
   ]
  },
  {
   "cell_type": "code",
   "execution_count": 2,
   "metadata": {},
   "outputs": [],
   "source": [
    "ravdess_path = DATASET_PATH.format(language=\"english\", name=\"RAVDESS\", form=\"mfcc\")\n",
    "ravdess = Dataset(ravdess_path, MFCCData(), RAVDESSUnifiedLabel())\n",
    "#\n",
    "# load tess\n",
    "tess_path = DATASET_PATH.format(language=\"english\", name=\"TESS\", form=\"mfcc\")\n",
    "tess = Dataset(tess_path, MFCCData(), TESSUnifiedLabel())\n",
    "\n",
    "# load savee\n",
    "savee_path = DATASET_PATH.format(language=\"english\", name=\"SAVEE\", form=\"mfcc\")\n",
    "savee = Dataset(savee_path, MFCCData(), SAVEEUnifiedLabel())\n",
    "\n",
    "# load emovo\n",
    "emovo_path = DATASET_PATH.format(language=\"italian\", name=\"EMOVO\", form=\"mfcc\")\n",
    "emovo = Dataset(emovo_path, MFCCData(), EMOVOUnifiedLabel())"
   ]
  },
  {
   "cell_type": "code",
   "execution_count": 3,
   "metadata": {},
   "outputs": [],
   "source": [
    "datasets = [ravdess, tess, savee, emovo]\n",
    "\n",
    "dataset_recordings_lengths = []\n",
    "all_recordings = []\n",
    "\n",
    "for dataset in datasets:\n",
    "    recordings = dataset.samples\n",
    "    \n",
    "    recordings_lengths = []\n",
    "    for recording in recordings:\n",
    "        recordings_lengths.append(recording.shape[0])\n",
    "        \n",
    "    dataset_recordings_lengths.append(sorted(recordings_lengths))\n",
    "    all_recordings += recordings_lengths\n",
    "\n",
    "dataset_recordings_lengths.append(all_recordings)"
   ]
  },
  {
   "cell_type": "code",
   "execution_count": 4,
   "metadata": {},
   "outputs": [],
   "source": [
    "data = pd.DataFrame(dataset_recordings_lengths).T\n",
    "data.columns = [\"RAVDESS\", \"TESS\", \"SAVEE\", \"EMOVO\", \"Dohromady\"]"
   ]
  },
  {
   "cell_type": "code",
   "execution_count": 5,
   "metadata": {},
   "outputs": [
    {
     "data": {
      "text/html": [
       "<div>\n",
       "<style scoped>\n",
       "    .dataframe tbody tr th:only-of-type {\n",
       "        vertical-align: middle;\n",
       "    }\n",
       "\n",
       "    .dataframe tbody tr th {\n",
       "        vertical-align: top;\n",
       "    }\n",
       "\n",
       "    .dataframe thead th {\n",
       "        text-align: right;\n",
       "    }\n",
       "</style>\n",
       "<table border=\"1\" class=\"dataframe\">\n",
       "  <thead>\n",
       "    <tr style=\"text-align: right;\">\n",
       "      <th></th>\n",
       "      <th>RAVDESS</th>\n",
       "      <th>TESS</th>\n",
       "      <th>SAVEE</th>\n",
       "      <th>EMOVO</th>\n",
       "      <th>Dohromady</th>\n",
       "    </tr>\n",
       "  </thead>\n",
       "  <tbody>\n",
       "    <tr>\n",
       "      <th>0</th>\n",
       "      <td>292.0</td>\n",
       "      <td>123.0</td>\n",
       "      <td>161.0</td>\n",
       "      <td>127.0</td>\n",
       "      <td>362.0</td>\n",
       "    </tr>\n",
       "    <tr>\n",
       "      <th>1</th>\n",
       "      <td>295.0</td>\n",
       "      <td>127.0</td>\n",
       "      <td>163.0</td>\n",
       "      <td>132.0</td>\n",
       "      <td>388.0</td>\n",
       "    </tr>\n",
       "    <tr>\n",
       "      <th>2</th>\n",
       "      <td>298.0</td>\n",
       "      <td>128.0</td>\n",
       "      <td>168.0</td>\n",
       "      <td>135.0</td>\n",
       "      <td>378.0</td>\n",
       "    </tr>\n",
       "    <tr>\n",
       "      <th>3</th>\n",
       "      <td>302.0</td>\n",
       "      <td>128.0</td>\n",
       "      <td>174.0</td>\n",
       "      <td>135.0</td>\n",
       "      <td>355.0</td>\n",
       "    </tr>\n",
       "    <tr>\n",
       "      <th>4</th>\n",
       "      <td>302.0</td>\n",
       "      <td>129.0</td>\n",
       "      <td>175.0</td>\n",
       "      <td>135.0</td>\n",
       "      <td>342.0</td>\n",
       "    </tr>\n",
       "    <tr>\n",
       "      <th>...</th>\n",
       "      <td>...</td>\n",
       "      <td>...</td>\n",
       "      <td>...</td>\n",
       "      <td>...</td>\n",
       "      <td>...</td>\n",
       "    </tr>\n",
       "    <tr>\n",
       "      <th>5303</th>\n",
       "      <td>NaN</td>\n",
       "      <td>NaN</td>\n",
       "      <td>NaN</td>\n",
       "      <td>NaN</td>\n",
       "      <td>199.0</td>\n",
       "    </tr>\n",
       "    <tr>\n",
       "      <th>5304</th>\n",
       "      <td>NaN</td>\n",
       "      <td>NaN</td>\n",
       "      <td>NaN</td>\n",
       "      <td>NaN</td>\n",
       "      <td>271.0</td>\n",
       "    </tr>\n",
       "    <tr>\n",
       "      <th>5305</th>\n",
       "      <td>NaN</td>\n",
       "      <td>NaN</td>\n",
       "      <td>NaN</td>\n",
       "      <td>NaN</td>\n",
       "      <td>365.0</td>\n",
       "    </tr>\n",
       "    <tr>\n",
       "      <th>5306</th>\n",
       "      <td>NaN</td>\n",
       "      <td>NaN</td>\n",
       "      <td>NaN</td>\n",
       "      <td>NaN</td>\n",
       "      <td>288.0</td>\n",
       "    </tr>\n",
       "    <tr>\n",
       "      <th>5307</th>\n",
       "      <td>NaN</td>\n",
       "      <td>NaN</td>\n",
       "      <td>NaN</td>\n",
       "      <td>NaN</td>\n",
       "      <td>457.0</td>\n",
       "    </tr>\n",
       "  </tbody>\n",
       "</table>\n",
       "<p>5308 rows × 5 columns</p>\n",
       "</div>"
      ],
      "text/plain": [
       "      RAVDESS   TESS  SAVEE  EMOVO  Dohromady\n",
       "0       292.0  123.0  161.0  127.0      362.0\n",
       "1       295.0  127.0  163.0  132.0      388.0\n",
       "2       298.0  128.0  168.0  135.0      378.0\n",
       "3       302.0  128.0  174.0  135.0      355.0\n",
       "4       302.0  129.0  175.0  135.0      342.0\n",
       "...       ...    ...    ...    ...        ...\n",
       "5303      NaN    NaN    NaN    NaN      199.0\n",
       "5304      NaN    NaN    NaN    NaN      271.0\n",
       "5305      NaN    NaN    NaN    NaN      365.0\n",
       "5306      NaN    NaN    NaN    NaN      288.0\n",
       "5307      NaN    NaN    NaN    NaN      457.0\n",
       "\n",
       "[5308 rows x 5 columns]"
      ]
     },
     "execution_count": 5,
     "metadata": {},
     "output_type": "execute_result"
    }
   ],
   "source": [
    "data"
   ]
  },
  {
   "cell_type": "code",
   "execution_count": 9,
   "metadata": {},
   "outputs": [
    {
     "data": {
      "text/plain": [
       "Text(0, 0.5, 'počet vzorků')"
      ]
     },
     "execution_count": 9,
     "metadata": {},
     "output_type": "execute_result"
    },
    {
     "data": {
      "image/png": "[encoded data removed]",
      "text/plain": [
       "<Figure size 576x432 with 1 Axes>"
      ]
     },
     "metadata": {
      "needs_background": "light"
     },
     "output_type": "display_data"
    }
   ],
   "source": [
    "fig, ax = plt.subplots(1, 1, figsize=(8,6))\n",
    "\n",
    "ax = sns.boxplot(data=data)\n",
    "plt.ylabel(\"počet vzorků\")"
   ]
  },
  {
   "cell_type": "code",
   "execution_count": 11,
   "metadata": {},
   "outputs": [],
   "source": [
    "dpi=400\n",
    "title = \"data_distribution\"\n",
    "dirname = \"/Users/tomaspetricek/Downloads\"\n",
    "filename = title + \".png\"\n",
    "path = os.path.join(dirname, filename)\n",
    "fig.savefig(path, dpi=dpi)"
   ]
  },
  {
   "cell_type": "code",
   "execution_count": null,
   "metadata": {},
   "outputs": [],
   "source": []
  }
 ],
 "metadata": {
  "kernelspec": {
   "display_name": "Python 3",
   "language": "python",
   "name": "python3"
  },
  "language_info": {
   "codemirror_mode": {
    "name": "ipython",
    "version": 3
   },
   "file_extension": ".py",
   "mimetype": "text/x-python",
   "name": "python",
   "nbconvert_exporter": "python",
   "pygments_lexer": "ipython3",
   "version": "3.7.7"
  }
 },
 "nbformat": 4,
 "nbformat_minor": 4
}
