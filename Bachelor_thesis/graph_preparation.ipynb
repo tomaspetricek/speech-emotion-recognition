{
 "cells": [
  {
   "cell_type": "code",
   "execution_count": 1,
   "metadata": {},
   "outputs": [],
   "source": [
    "import pandas as pd\n",
    "import matplotlib.pyplot as plt\n",
    "import os\n",
    "import numpy as np\n",
    "import seaborn as sns"
   ]
  },
  {
   "cell_type": "code",
   "execution_count": 2,
   "metadata": {},
   "outputs": [],
   "source": [
    "def plot(ax, items, title, y_label, x_label):\n",
    "    n_epochs = len(list(items.items())[0][1])\n",
    "    epochs = np.arange(1, n_epochs + 1)\n",
    "    \n",
    "    labels = list()\n",
    "    for label, item in items.items():\n",
    "        if item:\n",
    "            ax.plot(epochs, item)\n",
    "            labels.append(label)\n",
    "\n",
    "    ax.set_title(title)\n",
    "    ax.set_xlabel(x_label)\n",
    "    ax.set_ylabel(y_label)\n",
    "    ax.legend(labels, loc='upper left')"
   ]
  },
  {
   "cell_type": "code",
   "execution_count": 3,
   "metadata": {},
   "outputs": [],
   "source": [
    "path = \"models/pytorch/inter-80-10-10/{}/stats.csv\""
   ]
  },
  {
   "cell_type": "code",
   "execution_count": 4,
   "metadata": {},
   "outputs": [
    {
     "data": {
      "text/plain": [
       "'\\nsection = \"layers\"\\n\\nfilenames = [\\n    path.format(\"exp_02-2_layers\"),\\n    path.format(\"exp_01-baseline\"),\\n    path.format(\"exp_03-4_layers\"),\\n    path.format(\"exp_04-5_layers\"),\\n]\\n\\nnames = [\\n    \"2 skryté vrstvy\",\\n    \"3 skryté vrstvy\\n(výchozí model)\",\\n    \"4 skryté vsrtvy\",\\n    \"5 skrytých vrstev\",\\n]\\n'"
      ]
     },
     "execution_count": 4,
     "metadata": {},
     "output_type": "execute_result"
    }
   ],
   "source": [
    "\"\"\"\n",
    "section = \"layers\"\n",
    "\n",
    "filenames = [\n",
    "    path.format(\"exp_02-2_layers\"),\n",
    "    path.format(\"exp_01-baseline\"),\n",
    "    path.format(\"exp_03-4_layers\"),\n",
    "    path.format(\"exp_04-5_layers\"),\n",
    "]\n",
    "\n",
    "names = [\n",
    "    \"2 skryté vrstvy\",\n",
    "    \"3 skryté vrstvy\\n(výchozí model)\",\n",
    "    \"4 skryté vsrtvy\",\n",
    "    \"5 skrytých vrstev\",\n",
    "]\n",
    "\"\"\""
   ]
  },
  {
   "cell_type": "code",
   "execution_count": 5,
   "metadata": {},
   "outputs": [
    {
     "data": {
      "text/plain": [
       "'\\nsection = \"margin\"\\n\\nfilenames = [\\n    path.format(\"exp_05-margin_5\"),\\n    path.format(\"exp_06-margin_15\"),\\n    path.format(\"exp_01-baseline\"),\\n    path.format(\"exp_07-margin_30\"),\\n    path.format(\"exp_08-margin_50\"),\\n]\\n\\nnames = [\\n    \"velikost okolí 5\",\\n    \"velikost okolí 15\",\\n    \"velikost okolí 25\\n(výchozí model)\",\\n    \"velikost okolí 30\",\\n    \"velikost okolí 50\",\\n]\\n'"
      ]
     },
     "execution_count": 5,
     "metadata": {},
     "output_type": "execute_result"
    }
   ],
   "source": [
    "\"\"\"\n",
    "section = \"margin\"\n",
    "\n",
    "filenames = [\n",
    "    path.format(\"exp_05-margin_5\"),\n",
    "    path.format(\"exp_06-margin_15\"),\n",
    "    path.format(\"exp_01-baseline\"),\n",
    "    path.format(\"exp_07-margin_30\"),\n",
    "    path.format(\"exp_08-margin_50\"),\n",
    "]\n",
    "\n",
    "names = [\n",
    "    \"velikost okolí 5\",\n",
    "    \"velikost okolí 15\",\n",
    "    \"velikost okolí 25\\n(výchozí model)\",\n",
    "    \"velikost okolí 30\",\n",
    "    \"velikost okolí 50\",\n",
    "]\n",
    "\"\"\""
   ]
  },
  {
   "cell_type": "code",
   "execution_count": 6,
   "metadata": {},
   "outputs": [
    {
     "data": {
      "text/plain": [
       "'\\nsection = \"width\"\\n\\nfilenames = [\\n    path.format(\"exp_09-width_16\"),\\n    path.format(\"exp_10-width_64\"),\\n    path.format(\"exp_01-baseline\"),\\n    path.format(\"exp_11-width_256\"),\\n    path.format(\"exp_12-width_512\"),\\n]\\n\\nnames = [\\n    \"šířka vrstev 16\",\\n    \"šířka vrstev 64\",\\n    \"šířka vrstev 128\\n(výchozí model)\",\\n    \"šířka vrstev 256\",\\n    \"šířka vrstev 512\",\\n]\\n'"
      ]
     },
     "execution_count": 6,
     "metadata": {},
     "output_type": "execute_result"
    }
   ],
   "source": [
    "\"\"\"\n",
    "section = \"width\"\n",
    "\n",
    "filenames = [\n",
    "    path.format(\"exp_09-width_16\"),\n",
    "    path.format(\"exp_10-width_64\"),\n",
    "    path.format(\"exp_01-baseline\"),\n",
    "    path.format(\"exp_11-width_256\"),\n",
    "    path.format(\"exp_12-width_512\"),\n",
    "]\n",
    "\n",
    "names = [\n",
    "    \"šířka vrstev 16\",\n",
    "    \"šířka vrstev 64\",\n",
    "    \"šířka vrstev 128\\n(výchozí model)\",\n",
    "    \"šířka vrstev 256\",\n",
    "    \"šířka vrstev 512\",\n",
    "]\n",
    "\"\"\""
   ]
  },
  {
   "cell_type": "code",
   "execution_count": 7,
   "metadata": {},
   "outputs": [
    {
     "data": {
      "text/plain": [
       "'\\nsection = \"emotion_reduction\"\\n\\n\\nfilenames = [\\n    path.format(\"exp_22-3_emotions\"),\\n    path.format(\"exp_21-4_emotions\"),\\n    path.format(\"exp_01-baseline\"),\\n]\\n\\nnames = [\\n    \"3 emoce\",\\n    \"4 emoce\",\\n    \"7 emocí\\n(výchozí model)\",\\n]\\n'"
      ]
     },
     "execution_count": 7,
     "metadata": {},
     "output_type": "execute_result"
    }
   ],
   "source": [
    "\"\"\"\n",
    "section = \"emotion_reduction\"\n",
    "\n",
    "\n",
    "filenames = [\n",
    "    path.format(\"exp_22-3_emotions\"),\n",
    "    path.format(\"exp_21-4_emotions\"),\n",
    "    path.format(\"exp_01-baseline\"),\n",
    "]\n",
    "\n",
    "names = [\n",
    "    \"3 emoce\",\n",
    "    \"4 emoce\",\n",
    "    \"7 emocí\\n(výchozí model)\",\n",
    "]\n",
    "\"\"\""
   ]
  },
  {
   "cell_type": "code",
   "execution_count": 8,
   "metadata": {},
   "outputs": [
    {
     "data": {
      "text/plain": [
       "'\\nsection = \"regularization\"\\n\\nfilenames = [\\n    path.format(\"exp_01-baseline\"),\\n    path.format(\"exp_13-drop_out\"),\\n    path.format(\"exp_14-batch_norm\"),\\n    path.format(\"exp_15-drop_out_and_batch_norm\"),\\n]\\n\\nnames = [\\n    \"není (výchozí model)\",\\n    \"dropout\",\\n    \"normalizace dávek\",\\n    \"dropout s normalizací dávek\",\\n]\\n'"
      ]
     },
     "execution_count": 8,
     "metadata": {},
     "output_type": "execute_result"
    }
   ],
   "source": [
    "\"\"\"\n",
    "section = \"regularization\"\n",
    "\n",
    "filenames = [\n",
    "    path.format(\"exp_01-baseline\"),\n",
    "    path.format(\"exp_13-drop_out\"),\n",
    "    path.format(\"exp_14-batch_norm\"),\n",
    "    path.format(\"exp_15-drop_out_and_batch_norm\"),\n",
    "]\n",
    "\n",
    "names = [\n",
    "    \"není (výchozí model)\",\n",
    "    \"dropout\",\n",
    "    \"normalizace dávek\",\n",
    "    \"dropout s normalizací dávek\",\n",
    "]\n",
    "\"\"\""
   ]
  },
  {
   "cell_type": "code",
   "execution_count": 9,
   "metadata": {},
   "outputs": [],
   "source": [
    "path = \"models/pytorch/{}/stats.csv\"\n",
    "\n",
    "section = \"batch_size\"\n",
    "\n",
    "filenames = [\n",
    "    path.format(\"exp_16-batch_norm\"),\n",
    "    path.format(\"exp_21-batch_64\"),\n",
    "    path.format(\"exp_17-batch_128\"),\n",
    "    path.format(\"exp_20-batch_256\"),\n",
    "]\n",
    "\n",
    "names = [\n",
    "    \"drop out s normalizací dávek\",\n",
    "    \"velikost dávky 64\",\n",
    "    \"velikost dávky 128\",\n",
    "    \"velikost dávky 256\",\n",
    "]"
   ]
  },
  {
   "cell_type": "code",
   "execution_count": 10,
   "metadata": {},
   "outputs": [
    {
     "data": {
      "text/plain": [
       "'\\nsection = \"final_more\"\\n\\nfilenames = [\\n    path.format(\"exp_01-baseline\"),\\n    path.format(\"exp_37-7_emotions-50_margin\"),\\n    path.format(\"exp_38-4_emotions-50_margin\"),\\n    path.format(\"exp_39-3_emotions-50_margin\"),\\n]\\n\\nnames = [\\n    \"7 emocí\\n(výchozí model)\",\\n    \"7 emocí\",\\n    \"4 emoce\",\\n    \"3 emoce\",\\n]\\n'"
      ]
     },
     "execution_count": 10,
     "metadata": {},
     "output_type": "execute_result"
    }
   ],
   "source": [
    "\"\"\"\n",
    "section = \"final_more\"\n",
    "\n",
    "filenames = [\n",
    "    path.format(\"exp_01-baseline\"),\n",
    "    path.format(\"exp_37-7_emotions-50_margin\"),\n",
    "    path.format(\"exp_38-4_emotions-50_margin\"),\n",
    "    path.format(\"exp_39-3_emotions-50_margin\"),\n",
    "]\n",
    "\n",
    "names = [\n",
    "    \"7 emocí\\n(výchozí model)\",\n",
    "    \"7 emocí\",\n",
    "    \"4 emoce\",\n",
    "    \"3 emoce\",\n",
    "]\n",
    "\"\"\""
   ]
  },
  {
   "cell_type": "code",
   "execution_count": 11,
   "metadata": {},
   "outputs": [
    {
     "ename": "FileNotFoundError",
     "evalue": "[Errno 2] No such file or directory: 'models/pytorch/exp_16-batch_norm/stats.csv'",
     "output_type": "error",
     "traceback": [
      "\u001b[0;31m---------------------------------------------------------------------------\u001b[0m",
      "\u001b[0;31mFileNotFoundError\u001b[0m                         Traceback (most recent call last)",
      "\u001b[0;32m<ipython-input-11-2091ec3dcdff>\u001b[0m in \u001b[0;36m<module>\u001b[0;34m()\u001b[0m\n\u001b[1;32m      2\u001b[0m \u001b[0;34m\u001b[0m\u001b[0m\n\u001b[1;32m      3\u001b[0m \u001b[0;32mfor\u001b[0m \u001b[0mfilename\u001b[0m \u001b[0;32min\u001b[0m \u001b[0mfilenames\u001b[0m\u001b[0;34m:\u001b[0m\u001b[0;34m\u001b[0m\u001b[0;34m\u001b[0m\u001b[0m\n\u001b[0;32m----> 4\u001b[0;31m     \u001b[0mexp\u001b[0m \u001b[0;34m=\u001b[0m \u001b[0mpd\u001b[0m\u001b[0;34m.\u001b[0m\u001b[0mread_csv\u001b[0m\u001b[0;34m(\u001b[0m\u001b[0mfilename\u001b[0m\u001b[0;34m)\u001b[0m\u001b[0;34m\u001b[0m\u001b[0;34m\u001b[0m\u001b[0m\n\u001b[0m\u001b[1;32m      5\u001b[0m     \u001b[0mexperiments\u001b[0m\u001b[0;34m.\u001b[0m\u001b[0mappend\u001b[0m\u001b[0;34m(\u001b[0m\u001b[0mexp\u001b[0m\u001b[0;34m)\u001b[0m\u001b[0;34m\u001b[0m\u001b[0;34m\u001b[0m\u001b[0m\n",
      "\u001b[0;32m/Users/tomaspetricek/opt/anaconda3/envs/Speech_Emotion_Recognition/lib/python3.7/site-packages/pandas/io/parsers.py\u001b[0m in \u001b[0;36mread_csv\u001b[0;34m(filepath_or_buffer, sep, delimiter, header, names, index_col, usecols, squeeze, prefix, mangle_dupe_cols, dtype, engine, converters, true_values, false_values, skipinitialspace, skiprows, skipfooter, nrows, na_values, keep_default_na, na_filter, verbose, skip_blank_lines, parse_dates, infer_datetime_format, keep_date_col, date_parser, dayfirst, cache_dates, iterator, chunksize, compression, thousands, decimal, lineterminator, quotechar, quoting, doublequote, escapechar, comment, encoding, dialect, error_bad_lines, warn_bad_lines, delim_whitespace, low_memory, memory_map, float_precision)\u001b[0m\n\u001b[1;32m    684\u001b[0m     )\n\u001b[1;32m    685\u001b[0m \u001b[0;34m\u001b[0m\u001b[0m\n\u001b[0;32m--> 686\u001b[0;31m     \u001b[0;32mreturn\u001b[0m \u001b[0m_read\u001b[0m\u001b[0;34m(\u001b[0m\u001b[0mfilepath_or_buffer\u001b[0m\u001b[0;34m,\u001b[0m \u001b[0mkwds\u001b[0m\u001b[0;34m)\u001b[0m\u001b[0;34m\u001b[0m\u001b[0;34m\u001b[0m\u001b[0m\n\u001b[0m\u001b[1;32m    687\u001b[0m \u001b[0;34m\u001b[0m\u001b[0m\n\u001b[1;32m    688\u001b[0m \u001b[0;34m\u001b[0m\u001b[0m\n",
      "\u001b[0;32m/Users/tomaspetricek/opt/anaconda3/envs/Speech_Emotion_Recognition/lib/python3.7/site-packages/pandas/io/parsers.py\u001b[0m in \u001b[0;36m_read\u001b[0;34m(filepath_or_buffer, kwds)\u001b[0m\n\u001b[1;32m    450\u001b[0m \u001b[0;34m\u001b[0m\u001b[0m\n\u001b[1;32m    451\u001b[0m     \u001b[0;31m# Create the parser.\u001b[0m\u001b[0;34m\u001b[0m\u001b[0;34m\u001b[0m\u001b[0;34m\u001b[0m\u001b[0m\n\u001b[0;32m--> 452\u001b[0;31m     \u001b[0mparser\u001b[0m \u001b[0;34m=\u001b[0m \u001b[0mTextFileReader\u001b[0m\u001b[0;34m(\u001b[0m\u001b[0mfp_or_buf\u001b[0m\u001b[0;34m,\u001b[0m \u001b[0;34m**\u001b[0m\u001b[0mkwds\u001b[0m\u001b[0;34m)\u001b[0m\u001b[0;34m\u001b[0m\u001b[0;34m\u001b[0m\u001b[0m\n\u001b[0m\u001b[1;32m    453\u001b[0m \u001b[0;34m\u001b[0m\u001b[0m\n\u001b[1;32m    454\u001b[0m     \u001b[0;32mif\u001b[0m \u001b[0mchunksize\u001b[0m \u001b[0;32mor\u001b[0m \u001b[0miterator\u001b[0m\u001b[0;34m:\u001b[0m\u001b[0;34m\u001b[0m\u001b[0;34m\u001b[0m\u001b[0m\n",
      "\u001b[0;32m/Users/tomaspetricek/opt/anaconda3/envs/Speech_Emotion_Recognition/lib/python3.7/site-packages/pandas/io/parsers.py\u001b[0m in \u001b[0;36m__init__\u001b[0;34m(self, f, engine, **kwds)\u001b[0m\n\u001b[1;32m    944\u001b[0m             \u001b[0mself\u001b[0m\u001b[0;34m.\u001b[0m\u001b[0moptions\u001b[0m\u001b[0;34m[\u001b[0m\u001b[0;34m\"has_index_names\"\u001b[0m\u001b[0;34m]\u001b[0m \u001b[0;34m=\u001b[0m \u001b[0mkwds\u001b[0m\u001b[0;34m[\u001b[0m\u001b[0;34m\"has_index_names\"\u001b[0m\u001b[0;34m]\u001b[0m\u001b[0;34m\u001b[0m\u001b[0;34m\u001b[0m\u001b[0m\n\u001b[1;32m    945\u001b[0m \u001b[0;34m\u001b[0m\u001b[0m\n\u001b[0;32m--> 946\u001b[0;31m         \u001b[0mself\u001b[0m\u001b[0;34m.\u001b[0m\u001b[0m_make_engine\u001b[0m\u001b[0;34m(\u001b[0m\u001b[0mself\u001b[0m\u001b[0;34m.\u001b[0m\u001b[0mengine\u001b[0m\u001b[0;34m)\u001b[0m\u001b[0;34m\u001b[0m\u001b[0;34m\u001b[0m\u001b[0m\n\u001b[0m\u001b[1;32m    947\u001b[0m \u001b[0;34m\u001b[0m\u001b[0m\n\u001b[1;32m    948\u001b[0m     \u001b[0;32mdef\u001b[0m \u001b[0mclose\u001b[0m\u001b[0;34m(\u001b[0m\u001b[0mself\u001b[0m\u001b[0;34m)\u001b[0m\u001b[0;34m:\u001b[0m\u001b[0;34m\u001b[0m\u001b[0;34m\u001b[0m\u001b[0m\n",
      "\u001b[0;32m/Users/tomaspetricek/opt/anaconda3/envs/Speech_Emotion_Recognition/lib/python3.7/site-packages/pandas/io/parsers.py\u001b[0m in \u001b[0;36m_make_engine\u001b[0;34m(self, engine)\u001b[0m\n\u001b[1;32m   1176\u001b[0m     \u001b[0;32mdef\u001b[0m \u001b[0m_make_engine\u001b[0m\u001b[0;34m(\u001b[0m\u001b[0mself\u001b[0m\u001b[0;34m,\u001b[0m \u001b[0mengine\u001b[0m\u001b[0;34m=\u001b[0m\u001b[0;34m\"c\"\u001b[0m\u001b[0;34m)\u001b[0m\u001b[0;34m:\u001b[0m\u001b[0;34m\u001b[0m\u001b[0;34m\u001b[0m\u001b[0m\n\u001b[1;32m   1177\u001b[0m         \u001b[0;32mif\u001b[0m \u001b[0mengine\u001b[0m \u001b[0;34m==\u001b[0m \u001b[0;34m\"c\"\u001b[0m\u001b[0;34m:\u001b[0m\u001b[0;34m\u001b[0m\u001b[0;34m\u001b[0m\u001b[0m\n\u001b[0;32m-> 1178\u001b[0;31m             \u001b[0mself\u001b[0m\u001b[0;34m.\u001b[0m\u001b[0m_engine\u001b[0m \u001b[0;34m=\u001b[0m \u001b[0mCParserWrapper\u001b[0m\u001b[0;34m(\u001b[0m\u001b[0mself\u001b[0m\u001b[0;34m.\u001b[0m\u001b[0mf\u001b[0m\u001b[0;34m,\u001b[0m \u001b[0;34m**\u001b[0m\u001b[0mself\u001b[0m\u001b[0;34m.\u001b[0m\u001b[0moptions\u001b[0m\u001b[0;34m)\u001b[0m\u001b[0;34m\u001b[0m\u001b[0;34m\u001b[0m\u001b[0m\n\u001b[0m\u001b[1;32m   1179\u001b[0m         \u001b[0;32melse\u001b[0m\u001b[0;34m:\u001b[0m\u001b[0;34m\u001b[0m\u001b[0;34m\u001b[0m\u001b[0m\n\u001b[1;32m   1180\u001b[0m             \u001b[0;32mif\u001b[0m \u001b[0mengine\u001b[0m \u001b[0;34m==\u001b[0m \u001b[0;34m\"python\"\u001b[0m\u001b[0;34m:\u001b[0m\u001b[0;34m\u001b[0m\u001b[0;34m\u001b[0m\u001b[0m\n",
      "\u001b[0;32m/Users/tomaspetricek/opt/anaconda3/envs/Speech_Emotion_Recognition/lib/python3.7/site-packages/pandas/io/parsers.py\u001b[0m in \u001b[0;36m__init__\u001b[0;34m(self, src, **kwds)\u001b[0m\n\u001b[1;32m   2006\u001b[0m         \u001b[0mkwds\u001b[0m\u001b[0;34m[\u001b[0m\u001b[0;34m\"usecols\"\u001b[0m\u001b[0;34m]\u001b[0m \u001b[0;34m=\u001b[0m \u001b[0mself\u001b[0m\u001b[0;34m.\u001b[0m\u001b[0musecols\u001b[0m\u001b[0;34m\u001b[0m\u001b[0;34m\u001b[0m\u001b[0m\n\u001b[1;32m   2007\u001b[0m \u001b[0;34m\u001b[0m\u001b[0m\n\u001b[0;32m-> 2008\u001b[0;31m         \u001b[0mself\u001b[0m\u001b[0;34m.\u001b[0m\u001b[0m_reader\u001b[0m \u001b[0;34m=\u001b[0m \u001b[0mparsers\u001b[0m\u001b[0;34m.\u001b[0m\u001b[0mTextReader\u001b[0m\u001b[0;34m(\u001b[0m\u001b[0msrc\u001b[0m\u001b[0;34m,\u001b[0m \u001b[0;34m**\u001b[0m\u001b[0mkwds\u001b[0m\u001b[0;34m)\u001b[0m\u001b[0;34m\u001b[0m\u001b[0;34m\u001b[0m\u001b[0m\n\u001b[0m\u001b[1;32m   2009\u001b[0m         \u001b[0mself\u001b[0m\u001b[0;34m.\u001b[0m\u001b[0munnamed_cols\u001b[0m \u001b[0;34m=\u001b[0m \u001b[0mself\u001b[0m\u001b[0;34m.\u001b[0m\u001b[0m_reader\u001b[0m\u001b[0;34m.\u001b[0m\u001b[0munnamed_cols\u001b[0m\u001b[0;34m\u001b[0m\u001b[0;34m\u001b[0m\u001b[0m\n\u001b[1;32m   2010\u001b[0m \u001b[0;34m\u001b[0m\u001b[0m\n",
      "\u001b[0;32mpandas/_libs/parsers.pyx\u001b[0m in \u001b[0;36mpandas._libs.parsers.TextReader.__cinit__\u001b[0;34m()\u001b[0m\n",
      "\u001b[0;32mpandas/_libs/parsers.pyx\u001b[0m in \u001b[0;36mpandas._libs.parsers.TextReader._setup_parser_source\u001b[0;34m()\u001b[0m\n",
      "\u001b[0;31mFileNotFoundError\u001b[0m: [Errno 2] No such file or directory: 'models/pytorch/exp_16-batch_norm/stats.csv'"
     ]
    }
   ],
   "source": [
    "experiments = []\n",
    "\n",
    "for filename in filenames:\n",
    "    exp = pd.read_csv(filename)\n",
    "    experiments.append(exp)"
   ]
  },
  {
   "cell_type": "code",
   "execution_count": null,
   "metadata": {},
   "outputs": [],
   "source": [
    "\"\"\"\n",
    "experiments = pd.concat(experiments)\n",
    "experiments.reset_index(inplace=True, drop=True)\n",
    "experiments = [experiments]\n",
    "\"\"\""
   ]
  },
  {
   "cell_type": "code",
   "execution_count": null,
   "metadata": {},
   "outputs": [],
   "source": [
    "train_frame_acc = {}\n",
    "train_losses = {}\n",
    "\n",
    "val_frame_acc = {}\n",
    "val_losses = {}\n",
    "\n",
    "test_frame_acc = {}\n",
    "test_losses = {}"
   ]
  },
  {
   "cell_type": "code",
   "execution_count": null,
   "metadata": {},
   "outputs": [],
   "source": [
    "len(experiments)"
   ]
  },
  {
   "cell_type": "code",
   "execution_count": null,
   "metadata": {},
   "outputs": [],
   "source": [
    "for name, exp in zip(names, experiments):\n",
    "    train_frame_acc[name] = list(exp['frame acc trénovací sada'])\n",
    "    train_losses[name] = list(exp['losses trénovací sada'])\n",
    "    \n",
    "    val_frame_acc[name] = list(exp['frame acc validační sada'])\n",
    "    val_losses[name] = list(exp['losses validační sada'])\n",
    "    \n",
    "    test_frame_acc[name] = list(exp['frame acc testovací sada'])\n",
    "    test_losses[name] = list(exp['losses testovací sada'])"
   ]
  },
  {
   "cell_type": "code",
   "execution_count": null,
   "metadata": {},
   "outputs": [],
   "source": [
    "# name = '2 vrstvy'\n",
    "# print(\"val loss \", val_losses[name][-1])\n",
    "# print(\"train loss \", train_losses[name][-1])\n",
    "# print(\"val frame acc \", val_frame_acc[name][-1])\n",
    "# print(\"train frame acc\", train_frame_acc[name][-1])"
   ]
  },
  {
   "cell_type": "code",
   "execution_count": null,
   "metadata": {},
   "outputs": [],
   "source": [
    "val_losses.keys()"
   ]
  },
  {
   "cell_type": "code",
   "execution_count": null,
   "metadata": {},
   "outputs": [],
   "source": [
    "empty = \"#\"\n",
    "titles = [\n",
    "    \"Trénovací přesnost pro vzorky\",\n",
    "    \"Trénovací ztráta\",\n",
    "    \"Validační přesnost pro vzorky\",\n",
    "    \"Validační ztráta\",\n",
    "    \"Testovací přesnost pro vzorky\",\n",
    "    \"Testovací ztráta\",\n",
    "]\n",
    "\n",
    "y_labels = [\n",
    "    \"přesnost\",\n",
    "    \"ztráta\",\n",
    "    \"přesnost\",\n",
    "    \"ztráta\",\n",
    "    \"přesnost\",\n",
    "    \"ztráta\",\n",
    "]\n",
    "\n",
    "items = [\n",
    "    train_frame_acc,\n",
    "    train_losses,\n",
    "    val_frame_acc,\n",
    "    val_losses,\n",
    "    test_frame_acc,\n",
    "    test_losses,\n",
    "]\n",
    "\n",
    "n_rows = 3\n",
    "n_cols = 2\n",
    "dpi = 300\n",
    "final_fig , axes = plt.subplots(n_rows, n_cols, dpi=dpi)\n",
    "final_fig.set_figheight(15)\n",
    "final_fig.set_figwidth(15)\n",
    "\n",
    "for row in range(n_rows):\n",
    "    for col in range(n_cols):\n",
    "        ax = axes[row][col]\n",
    "        \n",
    "        index = row * n_cols + col\n",
    "        title = titles[index]\n",
    "        \n",
    "        if title == empty:\n",
    "            final_fig.delaxes(axes[row][col])\n",
    "            continue\n",
    "        \n",
    "        item = items[index]\n",
    "        \n",
    "        y_label = y_labels[index]\n",
    "        \n",
    "        plot(ax, item, title, y_label, \"epocha\")"
   ]
  },
  {
   "cell_type": "code",
   "execution_count": null,
   "metadata": {},
   "outputs": [],
   "source": [
    "dirname = \"/Users/tomaspetricek/TUL/TUL_2020:21/BP/Speech_Emotion_Recognition/Attachments/\"\n",
    "title = \"training_course-{}\".format(section)\n",
    "filename = title + \".png\"\n",
    "path = os.path.join(dirname, filename)\n",
    "final_fig.savefig(path, dpi=dpi)"
   ]
  },
  {
   "cell_type": "code",
   "execution_count": null,
   "metadata": {},
   "outputs": [],
   "source": [
    "stop"
   ]
  },
  {
   "cell_type": "markdown",
   "metadata": {},
   "source": [
    "### Confussion Matrix"
   ]
  },
  {
   "cell_type": "code",
   "execution_count": null,
   "metadata": {},
   "outputs": [],
   "source": [
    "def plot_conf_matrix(ax, conf_matrix, annot, title, y_label, x_label):\n",
    "    sns.heatmap(conf_matrix, ax=ax, annot=annot, fmt=\"\")\n",
    "    \n",
    "\n",
    "    ax.set_title(title)\n",
    "    ax.set_xlabel(y_label)\n",
    "    ax.set_ylabel(x_label)\n",
    "    plt.tight_layout()"
   ]
  },
  {
   "cell_type": "code",
   "execution_count": null,
   "metadata": {},
   "outputs": [],
   "source": [
    "classes = [\"Pozitivní\", \"Negativní\"]\n",
    "annot = np.array([\n",
    "    [\"pravdivé pozitivní\", \"nepravdivé pozitivní\"],\n",
    "    [\"nepravdivé negativní\", \"pravdivé negativní\"],\n",
    "])\n",
    "\n",
    "conf_matrix = np.array([\n",
    "    [10, 11],\n",
    "    [27, 19],\n",
    "])\n",
    "\n",
    "conf_matrix_df = pd.DataFrame(conf_matrix, classes, classes)"
   ]
  },
  {
   "cell_type": "code",
   "execution_count": null,
   "metadata": {},
   "outputs": [],
   "source": [
    "fig, ax = plt.subplots()\n",
    "\n",
    "plot_conf_matrix(\n",
    "    ax,\n",
    "    conf_matrix_df,\n",
    "    annot=annot,\n",
    "    title=\"Matice záměn\",\n",
    "    y_label=\"předpovězené třídy\",\n",
    "    x_label=\"správné třídy\",\n",
    ")"
   ]
  },
  {
   "cell_type": "code",
   "execution_count": null,
   "metadata": {},
   "outputs": [],
   "source": [
    "dpi = 300\n",
    "dirname = \"/Users/tomaspetricek/TUL/TUL_2020:21/BP/Speech_Emotion_Recognition/Attachments/\"\n",
    "title = \"conf_matrix-example\"\n",
    "filename = title + \".png\"\n",
    "path = os.path.join(dirname, filename)\n",
    "fig.savefig(path, dpi=dpi)"
   ]
  },
  {
   "cell_type": "code",
   "execution_count": null,
   "metadata": {},
   "outputs": [],
   "source": []
  }
 ],
 "metadata": {
  "kernelspec": {
   "display_name": "Python 3",
   "language": "python",
   "name": "python3"
  },
  "language_info": {
   "codemirror_mode": {
    "name": "ipython",
    "version": 3
   },
   "file_extension": ".py",
   "mimetype": "text/x-python",
   "name": "python",
   "nbconvert_exporter": "python",
   "pygments_lexer": "ipython3",
   "version": "3.7.7"
  }
 },
 "nbformat": 4,
 "nbformat_minor": 4
}
