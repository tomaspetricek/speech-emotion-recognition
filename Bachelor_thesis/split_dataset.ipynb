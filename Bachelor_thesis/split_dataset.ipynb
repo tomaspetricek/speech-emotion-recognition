{
 "cells": [
  {
   "cell_type": "code",
   "execution_count": 1,
   "metadata": {},
   "outputs": [],
   "source": [
    "import tensorflow as tf\n",
    "from tensorflow import keras\n",
    "import numpy as np\n",
    "\n",
    "from config import DATASET_PATH\n",
    "from datasets import (Dataset, RAVDESSLabel, TESSLabel, \n",
    "                     EMOVOLabel, SAVEELabel, MFCCData, WAVData,\n",
    "                     RAVDESSUnifiedLabel, TESSUnifiedLabel, SAVEEUnifiedLabel,\n",
    "                     EMOVOUnifiedLabel)\n",
    "\n",
    "from tools import add_margin, IndexPicker"
   ]
  },
  {
   "cell_type": "markdown",
   "metadata": {},
   "source": [
    "### Load Datasets"
   ]
  },
  {
   "cell_type": "code",
   "execution_count": 2,
   "metadata": {},
   "outputs": [],
   "source": [
    "ravdess_path = DATASET_PATH.format(language=\"english\", name=\"RAVDESS\", form=\"mfcc\")\n",
    "\n",
    "ravdess_mfcc_unified = Dataset(ravdess_path, MFCCData(), RAVDESSUnifiedLabel())"
   ]
  },
  {
   "cell_type": "code",
   "execution_count": 3,
   "metadata": {},
   "outputs": [],
   "source": [
    "tess_path = DATASET_PATH.format(language=\"english\", name=\"TESS\", form=\"mfcc\")\n",
    "\n",
    "tess_mfcc_unified = Dataset(tess_path, MFCCData(), TESSUnifiedLabel())"
   ]
  },
  {
   "cell_type": "code",
   "execution_count": 4,
   "metadata": {},
   "outputs": [],
   "source": [
    "savee_path = DATASET_PATH.format(language=\"english\", name=\"SAVEE\", form=\"mfcc\")\n",
    "\n",
    "savee_mfcc_unified = Dataset(savee_path, MFCCData(), SAVEEUnifiedLabel())"
   ]
  },
  {
   "cell_type": "code",
   "execution_count": 5,
   "metadata": {},
   "outputs": [],
   "source": [
    "emovo_path = DATASET_PATH.format(language=\"italian\", name=\"EMOVO\", form=\"mfcc\")\n",
    "\n",
    "emovo_mfcc_unified = Dataset(emovo_path, MFCCData(), EMOVOUnifiedLabel())"
   ]
  },
  {
   "cell_type": "markdown",
   "metadata": {},
   "source": [
    "### Combine Datasets"
   ]
  },
  {
   "cell_type": "code",
   "execution_count": 6,
   "metadata": {},
   "outputs": [],
   "source": [
    "ravdess_mfcc_unified.combine(savee_mfcc_unified, tess_mfcc_unified, emovo_mfcc_unified)"
   ]
  },
  {
   "cell_type": "code",
   "execution_count": 7,
   "metadata": {},
   "outputs": [],
   "source": [
    "dataset = ravdess_mfcc_unified"
   ]
  },
  {
   "cell_type": "code",
   "execution_count": 8,
   "metadata": {},
   "outputs": [],
   "source": [
    "samples = dataset.samples"
   ]
  },
  {
   "cell_type": "code",
   "execution_count": 9,
   "metadata": {},
   "outputs": [],
   "source": [
    "X = np.array(list(samples['coefficients']))\n",
    "\n",
    "y = np.array(list(samples['emotion']))"
   ]
  },
  {
   "cell_type": "code",
   "execution_count": 10,
   "metadata": {},
   "outputs": [],
   "source": [
    "n_classes = len(np.unique(y))"
   ]
  },
  {
   "cell_type": "code",
   "execution_count": 11,
   "metadata": {},
   "outputs": [
    {
     "data": {
      "text/plain": [
       "(1282163,)"
      ]
     },
     "execution_count": 11,
     "metadata": {},
     "output_type": "execute_result"
    }
   ],
   "source": [
    "y.shape"
   ]
  },
  {
   "cell_type": "code",
   "execution_count": 12,
   "metadata": {},
   "outputs": [
    {
     "data": {
      "text/plain": [
       "(1282163, 39)"
      ]
     },
     "execution_count": 12,
     "metadata": {},
     "output_type": "execute_result"
    }
   ],
   "source": [
    "X.shape"
   ]
  },
  {
   "cell_type": "markdown",
   "metadata": {},
   "source": [
    "### Add Margin"
   ]
  },
  {
   "cell_type": "code",
   "execution_count": 13,
   "metadata": {},
   "outputs": [
    {
     "name": "stdout",
     "output_type": "stream",
     "text": [
      "CPU times: user 11.1 s, sys: 3.88 s, total: 14.9 s\n",
      "Wall time: 15 s\n"
     ]
    }
   ],
   "source": [
    "index_picker = IndexPicker(10, 10)\n",
    "%time X_margined = np.array(add_margin(X, index_picker))"
   ]
  },
  {
   "cell_type": "code",
   "execution_count": 14,
   "metadata": {},
   "outputs": [
    {
     "data": {
      "text/plain": [
       "(1282163, 21, 39)"
      ]
     },
     "execution_count": 14,
     "metadata": {},
     "output_type": "execute_result"
    }
   ],
   "source": [
    "X_margined.shape"
   ]
  },
  {
   "cell_type": "markdown",
   "metadata": {},
   "source": [
    "### Reshape"
   ]
  },
  {
   "cell_type": "code",
   "execution_count": 15,
   "metadata": {},
   "outputs": [
    {
     "name": "stdout",
     "output_type": "stream",
     "text": [
      "CPU times: user 2.33 s, sys: 1.44 s, total: 3.77 s\n",
      "Wall time: 3.77 s\n"
     ]
    }
   ],
   "source": [
    "n_samples,window_length,n_features = X_margined.shape\n",
    "%time X_reshaped = np.array(np.reshape(X_margined, (n_samples, -1)))"
   ]
  },
  {
   "cell_type": "code",
   "execution_count": 16,
   "metadata": {},
   "outputs": [
    {
     "data": {
      "text/plain": [
       "(1282163, 819)"
      ]
     },
     "execution_count": 16,
     "metadata": {},
     "output_type": "execute_result"
    }
   ],
   "source": [
    "X_reshaped.shape"
   ]
  },
  {
   "cell_type": "markdown",
   "metadata": {},
   "source": [
    "## Modeling"
   ]
  },
  {
   "cell_type": "code",
   "execution_count": 17,
   "metadata": {},
   "outputs": [],
   "source": [
    "from sklearn.base import TransformerMixin,BaseEstimator\n",
    "\n",
    "\n",
    "class Scaler(BaseEstimator,TransformerMixin):\n",
    "\n",
    "    def __init__(self, scaler):\n",
    "        self.scaler = scaler\n",
    "\n",
    "    def fit(self,X,y=None):\n",
    "        self.scaler.fit(X.reshape(-1, 1))\n",
    "        return self\n",
    "\n",
    "    def transform(self,X):\n",
    "        return self.scaler.transform(X.reshape(-1, 1)).reshape(X.shape)"
   ]
  },
  {
   "cell_type": "markdown",
   "metadata": {},
   "source": [
    "### Prepere for model fitting"
   ]
  },
  {
   "cell_type": "code",
   "execution_count": 18,
   "metadata": {},
   "outputs": [
    {
     "name": "stdout",
     "output_type": "stream",
     "text": [
      "CPU times: user 15.3 s, sys: 14.4 s, total: 29.7 s\n",
      "Wall time: 30.3 s\n",
      "CPU times: user 216 ms, sys: 114 ms, total: 329 ms\n",
      "Wall time: 320 ms\n",
      "CPU times: user 249 ms, sys: 702 ms, total: 951 ms\n",
      "Wall time: 1.51 s\n"
     ]
    }
   ],
   "source": [
    "from sklearn.model_selection import train_test_split\n",
    "from sklearn.preprocessing import MinMaxScaler, StandardScaler\n",
    "\n",
    "X_train_full, X_test, y_train_full, y_test = train_test_split(X_reshaped, y, stratify=y, test_size=0.05)\n",
    "X_train, X_valid, y_train, y_valid = train_test_split(X_train_full, y_train_full, stratify=y_train_full, test_size=0.05)\n",
    "\n",
    "scaler = Scaler(StandardScaler())\n",
    "%time X_train = scaler.fit_transform(X_train)    ## fit it only on train data\n",
    "%time X_valid = scaler.transform(X_valid)\n",
    "%time X_test = scaler.transform(X_test)"
   ]
  },
  {
   "cell_type": "markdown",
   "metadata": {},
   "source": [
    "### Create model"
   ]
  },
  {
   "cell_type": "code",
   "execution_count": 19,
   "metadata": {},
   "outputs": [],
   "source": [
    "model = keras.models.Sequential()\n",
    "model.add(keras.layers.Dense(300, activation=\"relu\"))\n",
    "model.add(keras.layers.Dense(100, activation=\"relu\"))\n",
    "model.add(keras.layers.Dense(n_classes, activation=\"softmax\"))"
   ]
  },
  {
   "cell_type": "code",
   "execution_count": 20,
   "metadata": {},
   "outputs": [],
   "source": [
    "# model.summary()"
   ]
  },
  {
   "cell_type": "markdown",
   "metadata": {},
   "source": [
    "### Compile Model"
   ]
  },
  {
   "cell_type": "code",
   "execution_count": 21,
   "metadata": {},
   "outputs": [],
   "source": [
    "model.compile(loss=\"sparse_categorical_crossentropy\", optimizer=\"sgd\", metrics=[\"accuracy\"])"
   ]
  },
  {
   "cell_type": "markdown",
   "metadata": {},
   "source": [
    "### Fit Model"
   ]
  },
  {
   "cell_type": "code",
   "execution_count": 22,
   "metadata": {},
   "outputs": [
    {
     "name": "stdout",
     "output_type": "stream",
     "text": [
      "Epoch 1/30\n",
      "36161/36161 [==============================] - 34s 944us/step - loss: 1.3855 - accuracy: 0.4712 - val_loss: 1.2314 - val_accuracy: 0.5325\n",
      "Epoch 2/30\n",
      "36161/36161 [==============================] - 35s 969us/step - loss: 1.1631 - accuracy: 0.5604 - val_loss: 1.1102 - val_accuracy: 0.5798\n",
      "Epoch 3/30\n",
      "36161/36161 [==============================] - 34s 953us/step - loss: 1.0769 - accuracy: 0.5939 - val_loss: 1.0576 - val_accuracy: 0.6014\n",
      "Epoch 4/30\n",
      "36161/36161 [==============================] - 33s 913us/step - loss: 1.0227 - accuracy: 0.6140 - val_loss: 1.0312 - val_accuracy: 0.6082\n",
      "Epoch 5/30\n",
      "36161/36161 [==============================] - 33s 918us/step - loss: 0.9840 - accuracy: 0.6284 - val_loss: 0.9724 - val_accuracy: 0.6340\n",
      "Epoch 6/30\n",
      "36161/36161 [==============================] - 33s 912us/step - loss: 0.9551 - accuracy: 0.6396 - val_loss: 0.9578 - val_accuracy: 0.6380\n",
      "Epoch 7/30\n",
      "36161/36161 [==============================] - 33s 919us/step - loss: 0.9319 - accuracy: 0.6486 - val_loss: 0.9398 - val_accuracy: 0.6467\n",
      "Epoch 8/30\n",
      "36161/36161 [==============================] - 33s 917us/step - loss: 0.9117 - accuracy: 0.6560 - val_loss: 0.9309 - val_accuracy: 0.6521\n",
      "Epoch 9/30\n",
      "36161/36161 [==============================] - 33s 918us/step - loss: 0.8949 - accuracy: 0.6621 - val_loss: 0.9060 - val_accuracy: 0.6592\n",
      "Epoch 10/30\n",
      "36161/36161 [==============================] - 33s 921us/step - loss: 0.8803 - accuracy: 0.6681 - val_loss: 0.9003 - val_accuracy: 0.6600\n",
      "Epoch 11/30\n",
      "36161/36161 [==============================] - 34s 934us/step - loss: 0.8668 - accuracy: 0.6727 - val_loss: 0.8954 - val_accuracy: 0.6636\n",
      "Epoch 12/30\n",
      "36161/36161 [==============================] - 33s 920us/step - loss: 0.8553 - accuracy: 0.6772 - val_loss: 0.8848 - val_accuracy: 0.6658\n",
      "Epoch 13/30\n",
      "36161/36161 [==============================] - 33s 923us/step - loss: 0.8450 - accuracy: 0.6810 - val_loss: 0.8641 - val_accuracy: 0.6743\n",
      "Epoch 14/30\n",
      "36161/36161 [==============================] - 33s 924us/step - loss: 0.8349 - accuracy: 0.6852 - val_loss: 0.8693 - val_accuracy: 0.6741\n",
      "Epoch 15/30\n",
      "36161/36161 [==============================] - 36s 985us/step - loss: 0.8262 - accuracy: 0.6881 - val_loss: 0.8664 - val_accuracy: 0.6750\n",
      "Epoch 16/30\n",
      "36161/36161 [==============================] - 34s 927us/step - loss: 0.8183 - accuracy: 0.6907 - val_loss: 0.8580 - val_accuracy: 0.6769\n",
      "Epoch 17/30\n",
      "36161/36161 [==============================] - 34s 942us/step - loss: 0.8109 - accuracy: 0.6940 - val_loss: 0.8522 - val_accuracy: 0.6817\n",
      "Epoch 18/30\n",
      "36161/36161 [==============================] - 33s 923us/step - loss: 0.8040 - accuracy: 0.6965 - val_loss: 0.8593 - val_accuracy: 0.6756\n",
      "Epoch 19/30\n",
      "36161/36161 [==============================] - 34s 943us/step - loss: 0.7974 - accuracy: 0.6991 - val_loss: 0.8461 - val_accuracy: 0.6822\n",
      "Epoch 20/30\n",
      "36161/36161 [==============================] - 37s 1ms/step - loss: 0.7913 - accuracy: 0.7012 - val_loss: 0.8301 - val_accuracy: 0.6879\n",
      "Epoch 21/30\n",
      "36161/36161 [==============================] - 34s 928us/step - loss: 0.7851 - accuracy: 0.7036 - val_loss: 0.8371 - val_accuracy: 0.6853\n",
      "Epoch 22/30\n",
      "36161/36161 [==============================] - 33s 924us/step - loss: 0.7801 - accuracy: 0.7051 - val_loss: 0.8360 - val_accuracy: 0.6849\n",
      "Epoch 23/30\n",
      "36161/36161 [==============================] - 33s 922us/step - loss: 0.7749 - accuracy: 0.7074 - val_loss: 0.8280 - val_accuracy: 0.6907\n",
      "Epoch 24/30\n",
      "36161/36161 [==============================] - 33s 925us/step - loss: 0.7702 - accuracy: 0.7093 - val_loss: 0.8176 - val_accuracy: 0.6932\n",
      "Epoch 25/30\n",
      "36161/36161 [==============================] - 32s 882us/step - loss: 0.7655 - accuracy: 0.7114 - val_loss: 0.8207 - val_accuracy: 0.6917\n",
      "Epoch 26/30\n",
      "36161/36161 [==============================] - 31s 858us/step - loss: 0.7612 - accuracy: 0.7125 - val_loss: 0.8199 - val_accuracy: 0.6937\n",
      "Epoch 27/30\n",
      "36161/36161 [==============================] - 34s 931us/step - loss: 0.7574 - accuracy: 0.7139 - val_loss: 0.8091 - val_accuracy: 0.6981\n",
      "Epoch 28/30\n",
      "36161/36161 [==============================] - 34s 935us/step - loss: 0.7532 - accuracy: 0.7156 - val_loss: 0.8112 - val_accuracy: 0.6952\n",
      "Epoch 29/30\n",
      "36161/36161 [==============================] - 34s 943us/step - loss: 0.7495 - accuracy: 0.7166 - val_loss: 0.8045 - val_accuracy: 0.7000\n",
      "Epoch 30/30\n",
      "36161/36161 [==============================] - 36s 986us/step - loss: 0.7460 - accuracy: 0.7183 - val_loss: 0.8007 - val_accuracy: 0.7009\n",
      "CPU times: user 38min 18s, sys: 6min, total: 44min 18s\n",
      "Wall time: 16min 53s\n"
     ]
    }
   ],
   "source": [
    "%time history = model.fit(X_train, y_train, epochs=30, validation_data=(X_valid, y_valid))"
   ]
  },
  {
   "cell_type": "markdown",
   "metadata": {},
   "source": [
    "### Plot History"
   ]
  },
  {
   "cell_type": "code",
   "execution_count": 26,
   "metadata": {},
   "outputs": [
    {
     "data": {
      "image/png": "[encoded data removed]",
      "text/plain": [
       "<Figure size 576x360 with 1 Axes>"
      ]
     },
     "metadata": {
      "needs_background": "light"
     },
     "output_type": "display_data"
    }
   ],
   "source": [
    "import pandas as pd\n",
    "import matplotlib.pyplot as plt\n",
    "\n",
    "pd.DataFrame(history.history).plot(figsize=(8, 5))\n",
    "plt.grid(True)\n",
    "#plt.gca().set_ylim(0, 1)\n",
    "plt.show()"
   ]
  },
  {
   "cell_type": "markdown",
   "metadata": {},
   "source": [
    "### Evaluate Model"
   ]
  },
  {
   "cell_type": "code",
   "execution_count": 24,
   "metadata": {},
   "outputs": [
    {
     "name": "stdout",
     "output_type": "stream",
     "text": [
      "2004/2004 [==============================] - 1s 585us/step - loss: 0.8156 - accuracy: 0.6936\n"
     ]
    },
    {
     "data": {
      "text/plain": [
       "[0.8156483173370361, 0.6936155557632446]"
      ]
     },
     "execution_count": 24,
     "metadata": {},
     "output_type": "execute_result"
    }
   ],
   "source": [
    "model.evaluate(X_test, y_test)"
   ]
  },
  {
   "cell_type": "code",
   "execution_count": 27,
   "metadata": {},
   "outputs": [
    {
     "name": "stdout",
     "output_type": "stream",
     "text": [
      "WARNING:tensorflow:From /Users/tomaspetricek/opt/anaconda3/envs/Speech_Emotion_Recognition/lib/python3.7/site-packages/tensorflow/python/training/tracking/tracking.py:111: Model.state_updates (from tensorflow.python.keras.engine.training) is deprecated and will be removed in a future version.\n",
      "Instructions for updating:\n",
      "This property should not be used in TensorFlow 2.0, as updates are applied automatically.\n",
      "WARNING:tensorflow:From /Users/tomaspetricek/opt/anaconda3/envs/Speech_Emotion_Recognition/lib/python3.7/site-packages/tensorflow/python/training/tracking/tracking.py:111: Layer.updates (from tensorflow.python.keras.engine.base_layer) is deprecated and will be removed in a future version.\n",
      "Instructions for updating:\n",
      "This property should not be used in TensorFlow 2.0, as updates are applied automatically.\n",
      "INFO:tensorflow:Assets written to: models/tensorflow_keras/ravdess_savee_tess_emovo--10_10--StandardScaler--300_relu-100_relu-10_softmax--scc_sgd_accuracy--30/assets\n"
     ]
    }
   ],
   "source": [
    "# model.save('models/tensorflow_keras/ravdess_savee_tess_emovo--10_10--StandardScaler--300_relu-100_relu-10_softmax--scc_sgd_accuracy--30')"
   ]
  },
  {
   "cell_type": "code",
   "execution_count": null,
   "metadata": {},
   "outputs": [],
   "source": []
  }
 ],
 "metadata": {
  "kernelspec": {
   "display_name": "Python 3",
   "language": "python",
   "name": "python3"
  },
  "language_info": {
   "codemirror_mode": {
    "name": "ipython",
    "version": 3
   },
   "file_extension": ".py",
   "mimetype": "text/x-python",
   "name": "python",
   "nbconvert_exporter": "python",
   "pygments_lexer": "ipython3",
   "version": "3.7.7"
  }
 },
 "nbformat": 4,
 "nbformat_minor": 4
}
