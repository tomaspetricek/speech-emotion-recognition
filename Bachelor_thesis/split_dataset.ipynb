{
 "cells": [
  {
   "cell_type": "code",
   "execution_count": 1,
   "metadata": {},
   "outputs": [],
   "source": [
    "import tensorflow as tf\n",
    "from tensorflow import keras\n",
    "import numpy as np\n",
    "\n",
    "from config import DATASET_PATH\n",
    "from datasets import (Dataset, RAVDESSLabel, TESSLabel, \n",
    "                     EMOVOLabel, SAVEELabel, MFCCData, WAVData,\n",
    "                     RAVDESSUnifiedLabel, TESSUnifiedLabel, SAVEEUnifiedLabel,\n",
    "                     EMOVOUnifiedLabel)\n",
    "\n",
    "from tools import add_margin, IndexPicker"
   ]
  },
  {
   "cell_type": "markdown",
   "metadata": {},
   "source": [
    "### Load Datasets"
   ]
  },
  {
   "cell_type": "code",
   "execution_count": 2,
   "metadata": {},
   "outputs": [],
   "source": [
    "ravdess_path = DATASET_PATH.format(language=\"english\", name=\"RAVDESS\", form=\"mfcc\")\n",
    "\n",
    "ravdess_mfcc_unified = Dataset(ravdess_path, MFCCData(), RAVDESSUnifiedLabel())"
   ]
  },
  {
   "cell_type": "code",
   "execution_count": 3,
   "metadata": {},
   "outputs": [],
   "source": [
    "tess_path = DATASET_PATH.format(language=\"english\", name=\"TESS\", form=\"mfcc\")\n",
    "\n",
    "tess_mfcc_unified = Dataset(tess_path, MFCCData(), TESSUnifiedLabel())"
   ]
  },
  {
   "cell_type": "code",
   "execution_count": 4,
   "metadata": {},
   "outputs": [],
   "source": [
    "savee_path = DATASET_PATH.format(language=\"english\", name=\"SAVEE\", form=\"mfcc\")\n",
    "\n",
    "savee_mfcc_unified = Dataset(savee_path, MFCCData(), SAVEEUnifiedLabel())"
   ]
  },
  {
   "cell_type": "code",
   "execution_count": 5,
   "metadata": {},
   "outputs": [],
   "source": [
    "emovo_path = DATASET_PATH.format(language=\"italian\", name=\"EMOVO\", form=\"mfcc\")\n",
    "\n",
    "emovo_mfcc_unified = Dataset(emovo_path, MFCCData(), EMOVOUnifiedLabel())"
   ]
  },
  {
   "cell_type": "markdown",
   "metadata": {},
   "source": [
    "### Combine Datasets"
   ]
  },
  {
   "cell_type": "code",
   "execution_count": 6,
   "metadata": {},
   "outputs": [],
   "source": [
    "ravdess_mfcc_unified.combine(savee_mfcc_unified, tess_mfcc_unified, emovo_mfcc_unified)"
   ]
  },
  {
   "cell_type": "code",
   "execution_count": 7,
   "metadata": {},
   "outputs": [],
   "source": [
    "dataset = ravdess_mfcc_unified"
   ]
  },
  {
   "cell_type": "code",
   "execution_count": 8,
   "metadata": {},
   "outputs": [],
   "source": [
    "samples = dataset.samples"
   ]
  },
  {
   "cell_type": "code",
   "execution_count": 9,
   "metadata": {},
   "outputs": [],
   "source": [
    "X = np.array(list(samples['coefficients']))\n",
    "\n",
    "y = np.array(list(samples['emotion']))"
   ]
  },
  {
   "cell_type": "code",
   "execution_count": 10,
   "metadata": {},
   "outputs": [],
   "source": [
    "n_classes = len(np.unique(y))"
   ]
  },
  {
   "cell_type": "code",
   "execution_count": 11,
   "metadata": {},
   "outputs": [
    {
     "data": {
      "text/plain": [
       "(1282163,)"
      ]
     },
     "execution_count": 11,
     "metadata": {},
     "output_type": "execute_result"
    }
   ],
   "source": [
    "y.shape"
   ]
  },
  {
   "cell_type": "code",
   "execution_count": 12,
   "metadata": {},
   "outputs": [
    {
     "data": {
      "text/plain": [
       "(1282163, 39)"
      ]
     },
     "execution_count": 12,
     "metadata": {},
     "output_type": "execute_result"
    }
   ],
   "source": [
    "X.shape"
   ]
  },
  {
   "cell_type": "markdown",
   "metadata": {},
   "source": [
    "### Add Margin"
   ]
  },
  {
   "cell_type": "code",
   "execution_count": 13,
   "metadata": {},
   "outputs": [
    {
     "name": "stdout",
     "output_type": "stream",
     "text": [
      "CPU times: user 12.4 s, sys: 14.1 s, total: 26.5 s\n",
      "Wall time: 32.2 s\n"
     ]
    }
   ],
   "source": [
    "index_picker = IndexPicker(10, 10)\n",
    "%time X_margined = np.array(add_margin(X, index_picker))"
   ]
  },
  {
   "cell_type": "code",
   "execution_count": 14,
   "metadata": {},
   "outputs": [
    {
     "data": {
      "text/plain": [
       "(1282163, 21, 39)"
      ]
     },
     "execution_count": 14,
     "metadata": {},
     "output_type": "execute_result"
    }
   ],
   "source": [
    "X_margined.shape"
   ]
  },
  {
   "cell_type": "markdown",
   "metadata": {},
   "source": [
    "### Reshape"
   ]
  },
  {
   "cell_type": "code",
   "execution_count": 15,
   "metadata": {},
   "outputs": [
    {
     "name": "stdout",
     "output_type": "stream",
     "text": [
      "CPU times: user 3.11 s, sys: 7.68 s, total: 10.8 s\n",
      "Wall time: 12.9 s\n"
     ]
    }
   ],
   "source": [
    "n_samples,window_length,n_features = X_margined.shape\n",
    "%time X_reshaped = np.array(np.reshape(X_margined, (n_samples, -1)))"
   ]
  },
  {
   "cell_type": "code",
   "execution_count": 16,
   "metadata": {},
   "outputs": [
    {
     "data": {
      "text/plain": [
       "(1282163, 819)"
      ]
     },
     "execution_count": 16,
     "metadata": {},
     "output_type": "execute_result"
    }
   ],
   "source": [
    "X_reshaped.shape"
   ]
  },
  {
   "cell_type": "markdown",
   "metadata": {},
   "source": [
    "## Modeling"
   ]
  },
  {
   "cell_type": "code",
   "execution_count": 17,
   "metadata": {},
   "outputs": [],
   "source": [
    "from sklearn.base import TransformerMixin,BaseEstimator\n",
    "\n",
    "\n",
    "class Scaler(BaseEstimator,TransformerMixin):\n",
    "\n",
    "    def __init__(self, scaler):\n",
    "        self.scaler = scaler\n",
    "\n",
    "    def fit(self,X,y=None):\n",
    "        self.scaler.fit(X.reshape(-1, 1))\n",
    "        return self\n",
    "\n",
    "    def transform(self,X):\n",
    "        return self.scaler.transform(X.reshape(-1, 1)).reshape(X.shape)"
   ]
  },
  {
   "cell_type": "markdown",
   "metadata": {},
   "source": [
    "### Prepere for model fitting"
   ]
  },
  {
   "cell_type": "code",
   "execution_count": 18,
   "metadata": {},
   "outputs": [],
   "source": [
    "from sklearn.model_selection import train_test_split\n",
    "from sklearn.preprocessing import MinMaxScaler, StandardScaler\n",
    "\n",
    "X_train_full, X_test, y_train_full, y_test = train_test_split(X_reshaped, y, stratify=y, test_size=0.05)\n",
    "X_train, X_valid, y_train, y_valid = train_test_split(X_train_full, y_train_full, stratify=y_train_full, test_size=0.05)\n",
    "\n",
    "# scaler = Scaler(StandardScaler())\n",
    "# %time X_train = scaler.fit_transform(X_train)    ## fit it only on train data\n",
    "# %time X_valid = scaler.transform(X_valid)\n",
    "# %time X_test = scaler.transform(X_test)"
   ]
  },
  {
   "cell_type": "markdown",
   "metadata": {},
   "source": [
    "### Create model"
   ]
  },
  {
   "cell_type": "code",
   "execution_count": 19,
   "metadata": {},
   "outputs": [],
   "source": [
    "model = keras.models.Sequential()\n",
    "model.add(keras.layers.Dense(300, activation=\"relu\"))\n",
    "model.add(keras.layers.Dense(100, activation=\"relu\"))\n",
    "model.add(keras.layers.Dense(n_classes, activation=\"softmax\"))"
   ]
  },
  {
   "cell_type": "code",
   "execution_count": 20,
   "metadata": {},
   "outputs": [],
   "source": [
    "# model.summary()"
   ]
  },
  {
   "cell_type": "markdown",
   "metadata": {},
   "source": [
    "### Compile Model"
   ]
  },
  {
   "cell_type": "code",
   "execution_count": 21,
   "metadata": {},
   "outputs": [],
   "source": [
    "model.compile(loss=\"sparse_categorical_crossentropy\", optimizer=\"sgd\", metrics=[\"accuracy\"])"
   ]
  },
  {
   "cell_type": "markdown",
   "metadata": {},
   "source": [
    "### Fit Model"
   ]
  },
  {
   "cell_type": "code",
   "execution_count": 22,
   "metadata": {},
   "outputs": [
    {
     "name": "stdout",
     "output_type": "stream",
     "text": [
      "Epoch 1/30\n",
      "36161/36161 [==============================] - 37s 1ms/step - loss: 1.4246 - accuracy: 0.4456 - val_loss: 1.2959 - val_accuracy: 0.5034\n",
      "Epoch 2/30\n",
      "36161/36161 [==============================] - 35s 969us/step - loss: 1.2278 - accuracy: 0.5277 - val_loss: 1.1972 - val_accuracy: 0.5432\n",
      "Epoch 3/30\n",
      "36161/36161 [==============================] - 35s 960us/step - loss: 1.1581 - accuracy: 0.5566 - val_loss: 1.1468 - val_accuracy: 0.5593\n",
      "Epoch 4/30\n",
      "36161/36161 [==============================] - 33s 922us/step - loss: 1.1168 - accuracy: 0.5733 - val_loss: 1.1185 - val_accuracy: 0.5720\n",
      "Epoch 5/30\n",
      "36161/36161 [==============================] - 34s 947us/step - loss: 1.0875 - accuracy: 0.5844 - val_loss: 1.0922 - val_accuracy: 0.5836\n",
      "Epoch 6/30\n",
      "36161/36161 [==============================] - 35s 954us/step - loss: 1.0649 - accuracy: 0.5931 - val_loss: 1.0675 - val_accuracy: 0.5920\n",
      "Epoch 7/30\n",
      "36161/36161 [==============================] - 35s 965us/step - loss: 1.0472 - accuracy: 0.6002 - val_loss: 1.0605 - val_accuracy: 0.5945\n",
      "Epoch 8/30\n",
      "36161/36161 [==============================] - 34s 927us/step - loss: 1.0316 - accuracy: 0.6064 - val_loss: 1.0415 - val_accuracy: 0.6031\n",
      "Epoch 9/30\n",
      "36161/36161 [==============================] - 34s 935us/step - loss: 1.0182 - accuracy: 0.6115 - val_loss: 1.0464 - val_accuracy: 0.6019\n",
      "Epoch 10/30\n",
      "36161/36161 [==============================] - 34s 934us/step - loss: 1.0067 - accuracy: 0.6162 - val_loss: 1.0238 - val_accuracy: 0.6104\n",
      "Epoch 11/30\n",
      "36161/36161 [==============================] - 36s 986us/step - loss: 0.9963 - accuracy: 0.6203 - val_loss: 1.0220 - val_accuracy: 0.6151\n",
      "Epoch 12/30\n",
      "36161/36161 [==============================] - 34s 929us/step - loss: 0.9862 - accuracy: 0.6245 - val_loss: 1.0039 - val_accuracy: 0.6169\n",
      "Epoch 13/30\n",
      "36161/36161 [==============================] - 36s 1ms/step - loss: 0.9771 - accuracy: 0.6282 - val_loss: 1.0057 - val_accuracy: 0.6208\n",
      "Epoch 14/30\n",
      "36161/36161 [==============================] - 35s 967us/step - loss: 0.9687 - accuracy: 0.6314 - val_loss: 0.9849 - val_accuracy: 0.6263\n",
      "Epoch 15/30\n",
      "36161/36161 [==============================] - 34s 953us/step - loss: 0.9614 - accuracy: 0.6340 - val_loss: 0.9817 - val_accuracy: 0.6281\n",
      "Epoch 16/30\n",
      "36161/36161 [==============================] - 35s 957us/step - loss: 0.9536 - accuracy: 0.6373 - val_loss: 0.9800 - val_accuracy: 0.6287\n",
      "Epoch 17/30\n",
      "36161/36161 [==============================] - 34s 947us/step - loss: 0.9470 - accuracy: 0.6400 - val_loss: 0.9701 - val_accuracy: 0.6320\n",
      "Epoch 18/30\n",
      "36161/36161 [==============================] - 35s 971us/step - loss: 0.9407 - accuracy: 0.6425 - val_loss: 0.9830 - val_accuracy: 0.6278\n",
      "Epoch 19/30\n",
      "36161/36161 [==============================] - 34s 931us/step - loss: 0.9345 - accuracy: 0.6448 - val_loss: 0.9617 - val_accuracy: 0.6333\n",
      "Epoch 20/30\n",
      "36161/36161 [==============================] - 34s 936us/step - loss: 0.9284 - accuracy: 0.6471 - val_loss: 0.9496 - val_accuracy: 0.6388\n",
      "Epoch 21/30\n",
      "36161/36161 [==============================] - 34s 950us/step - loss: 0.9238 - accuracy: 0.6489 - val_loss: 0.9559 - val_accuracy: 0.6374\n",
      "Epoch 22/30\n",
      "36161/36161 [==============================] - 35s 966us/step - loss: 0.9183 - accuracy: 0.6512 - val_loss: 0.9490 - val_accuracy: 0.6412\n",
      "Epoch 23/30\n",
      "36161/36161 [==============================] - 34s 945us/step - loss: 0.9139 - accuracy: 0.6527 - val_loss: 0.9477 - val_accuracy: 0.6398\n",
      "Epoch 24/30\n",
      "36161/36161 [==============================] - 34s 938us/step - loss: 0.9087 - accuracy: 0.6546 - val_loss: 0.9516 - val_accuracy: 0.6438\n",
      "Epoch 25/30\n",
      "36161/36161 [==============================] - 34s 951us/step - loss: 0.9045 - accuracy: 0.6562 - val_loss: 0.9438 - val_accuracy: 0.6439\n",
      "Epoch 26/30\n",
      "36161/36161 [==============================] - 34s 944us/step - loss: 0.9006 - accuracy: 0.6578 - val_loss: 0.9305 - val_accuracy: 0.6484\n",
      "Epoch 27/30\n",
      "36161/36161 [==============================] - 34s 936us/step - loss: 0.8959 - accuracy: 0.6594 - val_loss: 0.9188 - val_accuracy: 0.6533\n",
      "Epoch 28/30\n",
      "36161/36161 [==============================] - 34s 928us/step - loss: 0.8924 - accuracy: 0.6608 - val_loss: 0.9251 - val_accuracy: 0.6502\n",
      "Epoch 29/30\n",
      "36161/36161 [==============================] - 34s 934us/step - loss: 0.8884 - accuracy: 0.6623 - val_loss: 0.9187 - val_accuracy: 0.6528\n",
      "Epoch 30/30\n",
      "36161/36161 [==============================] - 35s 963us/step - loss: 0.8847 - accuracy: 0.6636 - val_loss: 0.9275 - val_accuracy: 0.6491\n",
      "CPU times: user 38min 54s, sys: 6min 13s, total: 45min 7s\n",
      "Wall time: 17min 27s\n"
     ]
    }
   ],
   "source": [
    "%time history = model.fit(X_train, y_train, epochs=30, validation_data=(X_valid, y_valid))"
   ]
  },
  {
   "cell_type": "markdown",
   "metadata": {},
   "source": [
    "### Plot History"
   ]
  },
  {
   "cell_type": "code",
   "execution_count": 26,
   "metadata": {},
   "outputs": [
    {
     "data": {
      "image/png": "[encoded data removed]",
      "text/plain": [
       "<Figure size 576x360 with 1 Axes>"
      ]
     },
     "metadata": {
      "needs_background": "light"
     },
     "output_type": "display_data"
    }
   ],
   "source": [
    "import pandas as pd\n",
    "import matplotlib.pyplot as plt\n",
    "\n",
    "pd.DataFrame(history.history).plot(figsize=(8, 5))\n",
    "plt.grid(True)\n",
    "#plt.gca().set_ylim(0, 1)\n",
    "plt.show()"
   ]
  },
  {
   "cell_type": "markdown",
   "metadata": {},
   "source": [
    "### Evaluate Model"
   ]
  },
  {
   "cell_type": "code",
   "execution_count": 24,
   "metadata": {},
   "outputs": [
    {
     "name": "stdout",
     "output_type": "stream",
     "text": [
      "2004/2004 [==============================] - 1s 623us/step - loss: 0.9291 - accuracy: 0.6486\n"
     ]
    },
    {
     "data": {
      "text/plain": [
       "[0.9291043877601624, 0.6485517024993896]"
      ]
     },
     "execution_count": 24,
     "metadata": {},
     "output_type": "execute_result"
    }
   ],
   "source": [
    "model.evaluate(X_test, y_test)"
   ]
  },
  {
   "cell_type": "code",
   "execution_count": 25,
   "metadata": {},
   "outputs": [],
   "source": [
    "# model.save('models/tensorflow_keras/ravdess_savee_tess_emovo--10_10--StandardScaler--300_relu-100_relu-10_softmax--scc_sgd_accuracy--30')"
   ]
  },
  {
   "cell_type": "code",
   "execution_count": null,
   "metadata": {},
   "outputs": [],
   "source": []
  }
 ],
 "metadata": {
  "kernelspec": {
   "display_name": "Python 3",
   "language": "python",
   "name": "python3"
  },
  "language_info": {
   "codemirror_mode": {
    "name": "ipython",
    "version": 3
   },
   "file_extension": ".py",
   "mimetype": "text/x-python",
   "name": "python",
   "nbconvert_exporter": "python",
   "pygments_lexer": "ipython3",
   "version": "3.7.7"
  }
 },
 "nbformat": 4,
 "nbformat_minor": 4
}
